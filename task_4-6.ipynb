{
  "cells": [
    {
      "cell_type": "code",
      "source": [
        "!pip install qiskit ipywidgets"
      ],
      "metadata": {
        "colab": {
          "base_uri": "https://localhost:8080/"
        },
        "id": "1JLDq4JrhBmg",
        "outputId": "040c6f31-d71e-48e1-b51b-027fa0076391"
      },
      "execution_count": 1,
      "outputs": [
        {
          "output_type": "stream",
          "name": "stdout",
          "text": [
            "Looking in indexes: https://pypi.org/simple, https://us-python.pkg.dev/colab-wheels/public/simple/\n",
            "Collecting qiskit\n",
            "  Downloading qiskit-0.39.2.tar.gz (13 kB)\n",
            "Requirement already satisfied: ipywidgets in /usr/local/lib/python3.7/dist-packages (7.7.1)\n",
            "Collecting qiskit-terra==0.22.2\n",
            "  Downloading qiskit_terra-0.22.2-cp37-cp37m-manylinux_2_17_x86_64.manylinux2014_x86_64.whl (4.8 MB)\n",
            "\u001b[K     |████████████████████████████████| 4.8 MB 6.6 MB/s \n",
            "\u001b[?25hCollecting qiskit-aer==0.11.1\n",
            "  Downloading qiskit_aer-0.11.1-cp37-cp37m-manylinux_2_17_x86_64.manylinux2014_x86_64.whl (19.2 MB)\n",
            "\u001b[K     |████████████████████████████████| 19.2 MB 408 kB/s \n",
            "\u001b[?25hCollecting qiskit-ibmq-provider==0.19.2\n",
            "  Downloading qiskit_ibmq_provider-0.19.2-py3-none-any.whl (240 kB)\n",
            "\u001b[K     |████████████████████████████████| 240 kB 59.5 MB/s \n",
            "\u001b[?25hRequirement already satisfied: numpy>=1.16.3 in /usr/local/lib/python3.7/dist-packages (from qiskit-aer==0.11.1->qiskit) (1.21.6)\n",
            "Requirement already satisfied: scipy>=1.0 in /usr/local/lib/python3.7/dist-packages (from qiskit-aer==0.11.1->qiskit) (1.7.3)\n",
            "Collecting websockets>=10.0\n",
            "  Downloading websockets-10.4-cp37-cp37m-manylinux_2_5_x86_64.manylinux1_x86_64.manylinux_2_17_x86_64.manylinux2014_x86_64.whl (106 kB)\n",
            "\u001b[K     |████████████████████████████████| 106 kB 66.7 MB/s \n",
            "\u001b[?25hRequirement already satisfied: python-dateutil>=2.8.0 in /usr/local/lib/python3.7/dist-packages (from qiskit-ibmq-provider==0.19.2->qiskit) (2.8.2)\n",
            "Requirement already satisfied: urllib3>=1.21.1 in /usr/local/lib/python3.7/dist-packages (from qiskit-ibmq-provider==0.19.2->qiskit) (1.24.3)\n",
            "Requirement already satisfied: requests>=2.19 in /usr/local/lib/python3.7/dist-packages (from qiskit-ibmq-provider==0.19.2->qiskit) (2.23.0)\n",
            "Collecting requests-ntlm>=1.1.0\n",
            "  Downloading requests_ntlm-1.1.0-py2.py3-none-any.whl (5.7 kB)\n",
            "Collecting websocket-client>=1.0.1\n",
            "  Downloading websocket_client-1.4.2-py3-none-any.whl (55 kB)\n",
            "\u001b[K     |████████████████████████████████| 55 kB 3.9 MB/s \n",
            "\u001b[?25hCollecting stevedore>=3.0.0\n",
            "  Downloading stevedore-3.5.2-py3-none-any.whl (50 kB)\n",
            "\u001b[K     |████████████████████████████████| 50 kB 3.2 MB/s \n",
            "\u001b[?25hRequirement already satisfied: dill>=0.3 in /usr/local/lib/python3.7/dist-packages (from qiskit-terra==0.22.2->qiskit) (0.3.6)\n",
            "Collecting symengine>=0.9\n",
            "  Downloading symengine-0.9.2-cp37-cp37m-manylinux2010_x86_64.whl (37.5 MB)\n",
            "\u001b[K     |████████████████████████████████| 37.5 MB 53 kB/s \n",
            "\u001b[?25hRequirement already satisfied: importlib-metadata<5.0 in /usr/local/lib/python3.7/dist-packages (from qiskit-terra==0.22.2->qiskit) (4.13.0)\n",
            "Collecting ply>=3.10\n",
            "  Downloading ply-3.11-py2.py3-none-any.whl (49 kB)\n",
            "\u001b[K     |████████████████████████████████| 49 kB 7.5 MB/s \n",
            "\u001b[?25hCollecting shared-memory38\n",
            "  Downloading shared_memory38-0.1.2-cp37-cp37m-manylinux_2_5_x86_64.manylinux1_x86_64.whl (25 kB)\n",
            "Collecting retworkx>=0.11.0\n",
            "  Downloading retworkx-0.12.0-py3-none-any.whl (10 kB)\n",
            "Requirement already satisfied: psutil>=5 in /usr/local/lib/python3.7/dist-packages (from qiskit-terra==0.22.2->qiskit) (5.4.8)\n",
            "Collecting tweedledum<2.0,>=1.1\n",
            "  Downloading tweedledum-1.1.1-cp37-cp37m-manylinux_2_12_x86_64.manylinux2010_x86_64.whl (943 kB)\n",
            "\u001b[K     |████████████████████████████████| 943 kB 71.9 MB/s \n",
            "\u001b[?25hRequirement already satisfied: typing-extensions in /usr/local/lib/python3.7/dist-packages (from qiskit-terra==0.22.2->qiskit) (4.1.1)\n",
            "Requirement already satisfied: sympy>=1.3 in /usr/local/lib/python3.7/dist-packages (from qiskit-terra==0.22.2->qiskit) (1.7.1)\n",
            "Requirement already satisfied: zipp>=0.5 in /usr/local/lib/python3.7/dist-packages (from importlib-metadata<5.0->qiskit-terra==0.22.2->qiskit) (3.10.0)\n",
            "Requirement already satisfied: six>=1.5 in /usr/local/lib/python3.7/dist-packages (from python-dateutil>=2.8.0->qiskit-ibmq-provider==0.19.2->qiskit) (1.15.0)\n",
            "Requirement already satisfied: certifi>=2017.4.17 in /usr/local/lib/python3.7/dist-packages (from requests>=2.19->qiskit-ibmq-provider==0.19.2->qiskit) (2022.9.24)\n",
            "Requirement already satisfied: chardet<4,>=3.0.2 in /usr/local/lib/python3.7/dist-packages (from requests>=2.19->qiskit-ibmq-provider==0.19.2->qiskit) (3.0.4)\n",
            "Requirement already satisfied: idna<3,>=2.5 in /usr/local/lib/python3.7/dist-packages (from requests>=2.19->qiskit-ibmq-provider==0.19.2->qiskit) (2.10)\n",
            "Collecting ntlm-auth>=1.0.2\n",
            "  Downloading ntlm_auth-1.5.0-py2.py3-none-any.whl (29 kB)\n",
            "Collecting cryptography>=1.3\n",
            "  Downloading cryptography-38.0.3-cp36-abi3-manylinux_2_24_x86_64.whl (4.1 MB)\n",
            "\u001b[K     |████████████████████████████████| 4.1 MB 47.1 MB/s \n",
            "\u001b[?25hRequirement already satisfied: cffi>=1.12 in /usr/local/lib/python3.7/dist-packages (from cryptography>=1.3->requests-ntlm>=1.1.0->qiskit-ibmq-provider==0.19.2->qiskit) (1.15.1)\n",
            "Requirement already satisfied: pycparser in /usr/local/lib/python3.7/dist-packages (from cffi>=1.12->cryptography>=1.3->requests-ntlm>=1.1.0->qiskit-ibmq-provider==0.19.2->qiskit) (2.21)\n",
            "Collecting rustworkx==0.12.0\n",
            "  Downloading rustworkx-0.12.0-cp37-cp37m-manylinux_2_17_x86_64.manylinux2014_x86_64.whl (1.9 MB)\n",
            "\u001b[K     |████████████████████████████████| 1.9 MB 57.3 MB/s \n",
            "\u001b[?25hCollecting pbr!=2.1.0,>=2.0.0\n",
            "  Downloading pbr-5.11.0-py2.py3-none-any.whl (112 kB)\n",
            "\u001b[K     |████████████████████████████████| 112 kB 73.0 MB/s \n",
            "\u001b[?25hRequirement already satisfied: mpmath>=0.19 in /usr/local/lib/python3.7/dist-packages (from sympy>=1.3->qiskit-terra==0.22.2->qiskit) (1.2.1)\n",
            "Requirement already satisfied: widgetsnbextension~=3.6.0 in /usr/local/lib/python3.7/dist-packages (from ipywidgets) (3.6.1)\n",
            "Requirement already satisfied: ipython-genutils~=0.2.0 in /usr/local/lib/python3.7/dist-packages (from ipywidgets) (0.2.0)\n",
            "Requirement already satisfied: jupyterlab-widgets>=1.0.0 in /usr/local/lib/python3.7/dist-packages (from ipywidgets) (3.0.3)\n",
            "Requirement already satisfied: ipykernel>=4.5.1 in /usr/local/lib/python3.7/dist-packages (from ipywidgets) (5.3.4)\n",
            "Requirement already satisfied: traitlets>=4.3.1 in /usr/local/lib/python3.7/dist-packages (from ipywidgets) (5.1.1)\n",
            "Requirement already satisfied: ipython>=4.0.0 in /usr/local/lib/python3.7/dist-packages (from ipywidgets) (7.9.0)\n",
            "Requirement already satisfied: tornado>=4.2 in /usr/local/lib/python3.7/dist-packages (from ipykernel>=4.5.1->ipywidgets) (6.0.4)\n",
            "Requirement already satisfied: jupyter-client in /usr/local/lib/python3.7/dist-packages (from ipykernel>=4.5.1->ipywidgets) (6.1.12)\n",
            "Requirement already satisfied: pickleshare in /usr/local/lib/python3.7/dist-packages (from ipython>=4.0.0->ipywidgets) (0.7.5)\n",
            "Collecting jedi>=0.10\n",
            "  Downloading jedi-0.18.1-py2.py3-none-any.whl (1.6 MB)\n",
            "\u001b[K     |████████████████████████████████| 1.6 MB 61.1 MB/s \n",
            "\u001b[?25hRequirement already satisfied: setuptools>=18.5 in /usr/local/lib/python3.7/dist-packages (from ipython>=4.0.0->ipywidgets) (57.4.0)\n",
            "Requirement already satisfied: pygments in /usr/local/lib/python3.7/dist-packages (from ipython>=4.0.0->ipywidgets) (2.6.1)\n",
            "Requirement already satisfied: prompt-toolkit<2.1.0,>=2.0.0 in /usr/local/lib/python3.7/dist-packages (from ipython>=4.0.0->ipywidgets) (2.0.10)\n",
            "Requirement already satisfied: decorator in /usr/local/lib/python3.7/dist-packages (from ipython>=4.0.0->ipywidgets) (4.4.2)\n",
            "Requirement already satisfied: backcall in /usr/local/lib/python3.7/dist-packages (from ipython>=4.0.0->ipywidgets) (0.2.0)\n",
            "Requirement already satisfied: pexpect in /usr/local/lib/python3.7/dist-packages (from ipython>=4.0.0->ipywidgets) (4.8.0)\n",
            "Requirement already satisfied: parso<0.9.0,>=0.8.0 in /usr/local/lib/python3.7/dist-packages (from jedi>=0.10->ipython>=4.0.0->ipywidgets) (0.8.3)\n",
            "Requirement already satisfied: wcwidth in /usr/local/lib/python3.7/dist-packages (from prompt-toolkit<2.1.0,>=2.0.0->ipython>=4.0.0->ipywidgets) (0.2.5)\n",
            "Requirement already satisfied: notebook>=4.4.1 in /usr/local/lib/python3.7/dist-packages (from widgetsnbextension~=3.6.0->ipywidgets) (5.7.16)\n",
            "Requirement already satisfied: nbformat in /usr/local/lib/python3.7/dist-packages (from notebook>=4.4.1->widgetsnbextension~=3.6.0->ipywidgets) (5.7.0)\n",
            "Requirement already satisfied: terminado>=0.8.1 in /usr/local/lib/python3.7/dist-packages (from notebook>=4.4.1->widgetsnbextension~=3.6.0->ipywidgets) (0.13.3)\n",
            "Requirement already satisfied: prometheus-client in /usr/local/lib/python3.7/dist-packages (from notebook>=4.4.1->widgetsnbextension~=3.6.0->ipywidgets) (0.15.0)\n",
            "Requirement already satisfied: pyzmq>=17 in /usr/local/lib/python3.7/dist-packages (from notebook>=4.4.1->widgetsnbextension~=3.6.0->ipywidgets) (23.2.1)\n",
            "Requirement already satisfied: jinja2<=3.0.0 in /usr/local/lib/python3.7/dist-packages (from notebook>=4.4.1->widgetsnbextension~=3.6.0->ipywidgets) (2.11.3)\n",
            "Requirement already satisfied: nbconvert<6.0 in /usr/local/lib/python3.7/dist-packages (from notebook>=4.4.1->widgetsnbextension~=3.6.0->ipywidgets) (5.6.1)\n",
            "Requirement already satisfied: jupyter-core>=4.4.0 in /usr/local/lib/python3.7/dist-packages (from notebook>=4.4.1->widgetsnbextension~=3.6.0->ipywidgets) (4.11.2)\n",
            "Requirement already satisfied: Send2Trash in /usr/local/lib/python3.7/dist-packages (from notebook>=4.4.1->widgetsnbextension~=3.6.0->ipywidgets) (1.8.0)\n",
            "Requirement already satisfied: MarkupSafe>=0.23 in /usr/local/lib/python3.7/dist-packages (from jinja2<=3.0.0->notebook>=4.4.1->widgetsnbextension~=3.6.0->ipywidgets) (2.0.1)\n",
            "Requirement already satisfied: entrypoints>=0.2.2 in /usr/local/lib/python3.7/dist-packages (from nbconvert<6.0->notebook>=4.4.1->widgetsnbextension~=3.6.0->ipywidgets) (0.4)\n",
            "Requirement already satisfied: pandocfilters>=1.4.1 in /usr/local/lib/python3.7/dist-packages (from nbconvert<6.0->notebook>=4.4.1->widgetsnbextension~=3.6.0->ipywidgets) (1.5.0)\n",
            "Requirement already satisfied: defusedxml in /usr/local/lib/python3.7/dist-packages (from nbconvert<6.0->notebook>=4.4.1->widgetsnbextension~=3.6.0->ipywidgets) (0.7.1)\n",
            "Requirement already satisfied: testpath in /usr/local/lib/python3.7/dist-packages (from nbconvert<6.0->notebook>=4.4.1->widgetsnbextension~=3.6.0->ipywidgets) (0.6.0)\n",
            "Requirement already satisfied: bleach in /usr/local/lib/python3.7/dist-packages (from nbconvert<6.0->notebook>=4.4.1->widgetsnbextension~=3.6.0->ipywidgets) (5.0.1)\n",
            "Requirement already satisfied: mistune<2,>=0.8.1 in /usr/local/lib/python3.7/dist-packages (from nbconvert<6.0->notebook>=4.4.1->widgetsnbextension~=3.6.0->ipywidgets) (0.8.4)\n",
            "Requirement already satisfied: jsonschema>=2.6 in /usr/local/lib/python3.7/dist-packages (from nbformat->notebook>=4.4.1->widgetsnbextension~=3.6.0->ipywidgets) (4.3.3)\n",
            "Requirement already satisfied: fastjsonschema in /usr/local/lib/python3.7/dist-packages (from nbformat->notebook>=4.4.1->widgetsnbextension~=3.6.0->ipywidgets) (2.16.2)\n",
            "Requirement already satisfied: pyrsistent!=0.17.0,!=0.17.1,!=0.17.2,>=0.14.0 in /usr/local/lib/python3.7/dist-packages (from jsonschema>=2.6->nbformat->notebook>=4.4.1->widgetsnbextension~=3.6.0->ipywidgets) (0.19.2)\n",
            "Requirement already satisfied: attrs>=17.4.0 in /usr/local/lib/python3.7/dist-packages (from jsonschema>=2.6->nbformat->notebook>=4.4.1->widgetsnbextension~=3.6.0->ipywidgets) (22.1.0)\n",
            "Requirement already satisfied: importlib-resources>=1.4.0 in /usr/local/lib/python3.7/dist-packages (from jsonschema>=2.6->nbformat->notebook>=4.4.1->widgetsnbextension~=3.6.0->ipywidgets) (5.10.0)\n",
            "Requirement already satisfied: ptyprocess in /usr/local/lib/python3.7/dist-packages (from terminado>=0.8.1->notebook>=4.4.1->widgetsnbextension~=3.6.0->ipywidgets) (0.7.0)\n",
            "Requirement already satisfied: webencodings in /usr/local/lib/python3.7/dist-packages (from bleach->nbconvert<6.0->notebook>=4.4.1->widgetsnbextension~=3.6.0->ipywidgets) (0.5.1)\n",
            "Building wheels for collected packages: qiskit\n",
            "  Building wheel for qiskit (setup.py) ... \u001b[?25l\u001b[?25hdone\n",
            "  Created wheel for qiskit: filename=qiskit-0.39.2-py3-none-any.whl size=12224 sha256=7b141cfc5c2a48709b080b81acda7277c60c4828682a26399d72158699ec14cb\n",
            "  Stored in directory: /root/.cache/pip/wheels/30/dc/90/0ee55ccffd13c16db1abd4c43028f7c9cedb5576b190402190\n",
            "Successfully built qiskit\n",
            "Installing collected packages: jedi, rustworkx, pbr, tweedledum, symengine, stevedore, shared-memory38, retworkx, ply, ntlm-auth, cryptography, websockets, websocket-client, requests-ntlm, qiskit-terra, qiskit-ibmq-provider, qiskit-aer, qiskit\n",
            "Successfully installed cryptography-38.0.3 jedi-0.18.1 ntlm-auth-1.5.0 pbr-5.11.0 ply-3.11 qiskit-0.39.2 qiskit-aer-0.11.1 qiskit-ibmq-provider-0.19.2 qiskit-terra-0.22.2 requests-ntlm-1.1.0 retworkx-0.12.0 rustworkx-0.12.0 shared-memory38-0.1.2 stevedore-3.5.2 symengine-0.9.2 tweedledum-1.1.1 websocket-client-1.4.2 websockets-10.4\n"
          ]
        }
      ]
    },
    {
      "cell_type": "code",
      "source": [
        "import qiskit"
      ],
      "metadata": {
        "id": "i5yO-UNohCD_"
      },
      "execution_count": 2,
      "outputs": []
    },
    {
      "cell_type": "code",
      "source": [
        "from qiskit import QuantumCircuit, ClassicalRegister, QuantumRegister, execute, BasicAer\n"
      ],
      "metadata": {
        "id": "--LR-GU2hCOt"
      },
      "execution_count": 3,
      "outputs": []
    },
    {
      "cell_type": "code",
      "source": [
        "backend = BasicAer.get_backend('qasm_simulator')"
      ],
      "metadata": {
        "id": "t6HzQ9g5h45p"
      },
      "execution_count": 4,
      "outputs": []
    },
    {
      "cell_type": "markdown",
      "source": [
        "**4. Используя библиотеку Qiskit, создайте 4 состояния Белла.**"
      ],
      "metadata": {
        "id": "LBsnIf1xkbbz"
      }
    },
    {
      "cell_type": "markdown",
      "source": [
        "\n",
        "\n",
        "1.   Ф+\n",
        "\n",
        "\n"
      ],
      "metadata": {
        "id": "5pfc2SiUkl2z"
      }
    },
    {
      "cell_type": "code",
      "source": [
        "q = QuantumRegister(2)\n",
        "c = ClassicalRegister(2)\n",
        "circuit = QuantumCircuit(q,c)\n",
        "circuit.h(q[0])\n",
        "circuit.cx(q[0],q[1])\n",
        "print(circuit)"
      ],
      "metadata": {
        "colab": {
          "base_uri": "https://localhost:8080/"
        },
        "id": "gbsJqIZHi7bf",
        "outputId": "f6f4abb9-7ffc-4d81-950e-1119920c9a6f"
      },
      "execution_count": 5,
      "outputs": [
        {
          "output_type": "stream",
          "name": "stdout",
          "text": [
            "      ┌───┐     \n",
            "q0_0: ┤ H ├──■──\n",
            "      └───┘┌─┴─┐\n",
            "q0_1: ─────┤ X ├\n",
            "           └───┘\n",
            "c0_0: ══════════\n",
            "                \n",
            "c0_1: ══════════\n",
            "                \n"
          ]
        }
      ]
    },
    {
      "cell_type": "code",
      "source": [
        "circuit.measure(q,c)\n",
        "result = execute(circuit,backend,shots=10000).result()\n",
        "print(result.get_counts())"
      ],
      "metadata": {
        "colab": {
          "base_uri": "https://localhost:8080/"
        },
        "id": "x2R8Lec1lRG4",
        "outputId": "519ffe78-edea-41a7-edfe-b21fa94530f0"
      },
      "execution_count": 6,
      "outputs": [
        {
          "output_type": "stream",
          "name": "stdout",
          "text": [
            "{'11': 5075, '00': 4925}\n"
          ]
        }
      ]
    },
    {
      "cell_type": "markdown",
      "source": [
        "2.   Ф-\n",
        "\n"
      ],
      "metadata": {
        "id": "NNLNyhKEmj-s"
      }
    },
    {
      "cell_type": "code",
      "source": [
        "q = QuantumRegister(2)\n",
        "c = ClassicalRegister(2)\n",
        "circuit = QuantumCircuit(q,c)\n",
        "circuit.x(q[0])\n",
        "circuit.h(q[0])\n",
        "circuit.cx(q[0],q[1])\n",
        "print(circuit)"
      ],
      "metadata": {
        "colab": {
          "base_uri": "https://localhost:8080/"
        },
        "id": "252tLqRmmpc4",
        "outputId": "178818e9-4cb9-4544-a1de-216fa48dba13"
      },
      "execution_count": 7,
      "outputs": [
        {
          "output_type": "stream",
          "name": "stdout",
          "text": [
            "      ┌───┐┌───┐     \n",
            "q4_0: ┤ X ├┤ H ├──■──\n",
            "      └───┘└───┘┌─┴─┐\n",
            "q4_1: ──────────┤ X ├\n",
            "                └───┘\n",
            "c1_0: ═══════════════\n",
            "                     \n",
            "c1_1: ═══════════════\n",
            "                     \n"
          ]
        }
      ]
    },
    {
      "cell_type": "code",
      "source": [
        "circuit.measure(q,c)\n",
        "result = execute(circuit,backend,shots=10000).result()\n",
        "print(result.get_counts())"
      ],
      "metadata": {
        "colab": {
          "base_uri": "https://localhost:8080/"
        },
        "id": "1HGod61qm9Nr",
        "outputId": "fc0ac293-333a-457f-c8b3-3947dbbdd555"
      },
      "execution_count": 8,
      "outputs": [
        {
          "output_type": "stream",
          "name": "stdout",
          "text": [
            "{'11': 4928, '00': 5072}\n"
          ]
        }
      ]
    },
    {
      "cell_type": "markdown",
      "source": [
        "3.   Ψ-\n",
        "\n",
        "\n"
      ],
      "metadata": {
        "id": "-DTniotpnWXK"
      }
    },
    {
      "cell_type": "code",
      "source": [
        "q = QuantumRegister(2)\n",
        "c = ClassicalRegister(2)\n",
        "circuit = QuantumCircuit(q,c)\n",
        "circuit.h(q[0])\n",
        "circuit.cx(q[0],q[1])\n",
        "circuit.x(q[1])\n",
        "print(circuit)"
      ],
      "metadata": {
        "colab": {
          "base_uri": "https://localhost:8080/"
        },
        "id": "Vv3pfK39ncMF",
        "outputId": "488ffc30-b940-4d58-e232-1959f2ff2e46"
      },
      "execution_count": 9,
      "outputs": [
        {
          "output_type": "stream",
          "name": "stdout",
          "text": [
            "      ┌───┐          \n",
            "q9_0: ┤ H ├──■───────\n",
            "      └───┘┌─┴─┐┌───┐\n",
            "q9_1: ─────┤ X ├┤ X ├\n",
            "           └───┘└───┘\n",
            "c2_0: ═══════════════\n",
            "                     \n",
            "c2_1: ═══════════════\n",
            "                     \n"
          ]
        }
      ]
    },
    {
      "cell_type": "code",
      "source": [
        "circuit.measure(q,c)\n",
        "result = execute(circuit,backend,shots=10000).result()\n",
        "print(result.get_counts())"
      ],
      "metadata": {
        "colab": {
          "base_uri": "https://localhost:8080/"
        },
        "id": "nSAINEAWnceZ",
        "outputId": "7fcd26c1-7be6-4cc1-94e0-ed06db569c32"
      },
      "execution_count": 10,
      "outputs": [
        {
          "output_type": "stream",
          "name": "stdout",
          "text": [
            "{'10': 4980, '01': 5020}\n"
          ]
        }
      ]
    },
    {
      "cell_type": "markdown",
      "source": [
        "4.   Ψ+\n",
        "\n"
      ],
      "metadata": {
        "id": "nWEVHUD3n4hW"
      }
    },
    {
      "cell_type": "code",
      "source": [
        "q = QuantumRegister(2)\n",
        "c = ClassicalRegister(2)\n",
        "circuit = QuantumCircuit(q,c)\n",
        "circuit.x(q[0])\n",
        "circuit.h(q[0])\n",
        "circuit.cx(q[0],q[1])\n",
        "circuit.x(q[1])\n",
        "print(circuit)"
      ],
      "metadata": {
        "colab": {
          "base_uri": "https://localhost:8080/"
        },
        "id": "mbrCVzQBncqu",
        "outputId": "12f6894e-0409-4451-cd3a-418b04692e91"
      },
      "execution_count": 11,
      "outputs": [
        {
          "output_type": "stream",
          "name": "stdout",
          "text": [
            "       ┌───┐┌───┐          \n",
            "q14_0: ┤ X ├┤ H ├──■───────\n",
            "       └───┘└───┘┌─┴─┐┌───┐\n",
            "q14_1: ──────────┤ X ├┤ X ├\n",
            "                 └───┘└───┘\n",
            " c3_0: ════════════════════\n",
            "                           \n",
            " c3_1: ════════════════════\n",
            "                           \n"
          ]
        }
      ]
    },
    {
      "cell_type": "code",
      "source": [
        "circuit.measure(q,c)\n",
        "result = execute(circuit,backend,shots=10000).result()\n",
        "print(result.get_counts())"
      ],
      "metadata": {
        "colab": {
          "base_uri": "https://localhost:8080/"
        },
        "id": "fYsnTcbMnct_",
        "outputId": "2b22b3df-fd52-47af-dc29-3b78cdf4626f"
      },
      "execution_count": 12,
      "outputs": [
        {
          "output_type": "stream",
          "name": "stdout",
          "text": [
            "{'01': 4997, '10': 5003}\n"
          ]
        }
      ]
    },
    {
      "cell_type": "markdown",
      "source": [
        "**5. Используя библиотеку Qiskit, создайте схему квантовой телепортации для случая, когда состояние кубита телепортируется внутри одной квантовой схемы (без классических каналов передачи информации).**"
      ],
      "metadata": {
        "id": "iP-vnPprUK5x"
      }
    },
    {
      "cell_type": "code",
      "source": [
        "q = QuantumRegister(3)\n",
        "c = ClassicalRegister(3)\n",
        "circuit = QuantumCircuit(q,c)\n",
        "circuit.h(q[1])\n",
        "circuit.cx(q[1],q[2])\n",
        "circuit.cx(q[0],q[1])\n",
        "circuit.h(q[0])\n",
        "circuit.cx(q[1],q[2])\n",
        "circuit.cz(q[0],q[1])\n",
        "print(circuit)"
      ],
      "metadata": {
        "colab": {
          "base_uri": "https://localhost:8080/"
        },
        "id": "jtyhXSoyTeIn",
        "outputId": "f485d1aa-493a-49c0-cea7-5dab27a6b8a3"
      },
      "execution_count": 13,
      "outputs": [
        {
          "output_type": "stream",
          "name": "stdout",
          "text": [
            "                      ┌───┐   \n",
            "q19_0: ────────────■──┤ H ├─■─\n",
            "       ┌───┐     ┌─┴─┐└───┘ │ \n",
            "q19_1: ┤ H ├──■──┤ X ├──■───■─\n",
            "       └───┘┌─┴─┐└───┘┌─┴─┐   \n",
            "q19_2: ─────┤ X ├─────┤ X ├───\n",
            "            └───┘     └───┘   \n",
            " c4_0: ═══════════════════════\n",
            "                              \n",
            " c4_1: ═══════════════════════\n",
            "                              \n",
            " c4_2: ═══════════════════════\n",
            "                              \n"
          ]
        }
      ]
    },
    {
      "cell_type": "code",
      "source": [
        "circuit.measure(q,c)\n",
        "result = execute(circuit,backend,shots=10000).result()\n",
        "print(result.get_counts())"
      ],
      "metadata": {
        "colab": {
          "base_uri": "https://localhost:8080/"
        },
        "id": "KnVnH_9ZYD-b",
        "outputId": "ced9f06c-a6ad-49b0-91df-fccc880087d4"
      },
      "execution_count": 14,
      "outputs": [
        {
          "output_type": "stream",
          "name": "stdout",
          "text": [
            "{'010': 2466, '001': 2461, '000': 2539, '011': 2534}\n"
          ]
        }
      ]
    },
    {
      "cell_type": "markdown",
      "source": [
        "**6. С помощью библиотеки Qiskit создайте схемы для операторов классической логики: И, НЕ, ИЛИ, Исключающее ИЛИ. При создании этих операторов используйте вспомогательные кубиты (для того, чтобы входные данные сохранялись, выходные данные для некоторых логических операторов нужно сохранять в отдельных кубитах, которые можно назвать вспомогательными).**"
      ],
      "metadata": {
        "id": "BFkB33hzYR0l"
      }
    },
    {
      "cell_type": "markdown",
      "source": [
        "1. НЕ"
      ],
      "metadata": {
        "id": "DBG2Gj1yYv8k"
      }
    },
    {
      "cell_type": "code",
      "source": [
        "q = QuantumRegister(2)\n",
        "c = ClassicalRegister(2)\n",
        "circuit = QuantumCircuit(q,c)\n",
        "circuit.x(q[0])\n",
        "circuit.cx(q[0],q[1])\n",
        "print(circuit)"
      ],
      "metadata": {
        "colab": {
          "base_uri": "https://localhost:8080/"
        },
        "id": "VJXp1UP8YRBG",
        "outputId": "ffc1d90b-ad25-4642-8b08-fd016174cd12"
      },
      "execution_count": 15,
      "outputs": [
        {
          "output_type": "stream",
          "name": "stdout",
          "text": [
            "       ┌───┐     \n",
            "q24_0: ┤ X ├──■──\n",
            "       └───┘┌─┴─┐\n",
            "q24_1: ─────┤ X ├\n",
            "            └───┘\n",
            " c5_0: ══════════\n",
            "                 \n",
            " c5_1: ══════════\n",
            "                 \n"
          ]
        }
      ]
    },
    {
      "cell_type": "code",
      "source": [
        "circuit.measure(q,c)\n",
        "result = execute(circuit,backend,shots=100).result()\n",
        "print(result.get_counts())"
      ],
      "metadata": {
        "colab": {
          "base_uri": "https://localhost:8080/"
        },
        "id": "ibnws2l4bNT1",
        "outputId": "85664462-5ac5-4d3b-c200-f9329dcad53b"
      },
      "execution_count": 16,
      "outputs": [
        {
          "output_type": "stream",
          "name": "stdout",
          "text": [
            "{'11': 100}\n"
          ]
        }
      ]
    },
    {
      "cell_type": "markdown",
      "source": [
        "2. И"
      ],
      "metadata": {
        "id": "s3mADzpDcYwY"
      }
    },
    {
      "cell_type": "code",
      "source": [
        "q = QuantumRegister(3)\n",
        "c = ClassicalRegister(3)\n",
        "circuit = QuantumCircuit(q,c)\n",
        "circuit.ccx(q[0],q[1],q[2])\n",
        "print(circuit)"
      ],
      "metadata": {
        "id": "mKqSIhh8caMu",
        "outputId": "6e2757ff-1e35-47cd-c0d2-e9f2497cf00c",
        "colab": {
          "base_uri": "https://localhost:8080/"
        }
      },
      "execution_count": 17,
      "outputs": [
        {
          "output_type": "stream",
          "name": "stdout",
          "text": [
            "            \n",
            "q28_0: ──■──\n",
            "         │  \n",
            "q28_1: ──■──\n",
            "       ┌─┴─┐\n",
            "q28_2: ┤ X ├\n",
            "       └───┘\n",
            " c6_0: ═════\n",
            "            \n",
            " c6_1: ═════\n",
            "            \n",
            " c6_2: ═════\n",
            "            \n"
          ]
        }
      ]
    },
    {
      "cell_type": "code",
      "source": [
        "circuit.measure(q,c)\n",
        "result = execute(circuit,backend,shots=100).result()\n",
        "print(result.get_counts())"
      ],
      "metadata": {
        "id": "SMk56Y21vDa-",
        "outputId": "f18353ea-de05-49fe-a5d7-4d7413c91782",
        "colab": {
          "base_uri": "https://localhost:8080/"
        }
      },
      "execution_count": 18,
      "outputs": [
        {
          "output_type": "stream",
          "name": "stdout",
          "text": [
            "{'000': 100}\n"
          ]
        }
      ]
    },
    {
      "cell_type": "markdown",
      "source": [
        "3. ИЛИ"
      ],
      "metadata": {
        "id": "xDQfVskgvMFK"
      }
    },
    {
      "cell_type": "code",
      "source": [
        "q = QuantumRegister(3)\n",
        "c = ClassicalRegister(3)\n",
        "circuit = QuantumCircuit(q,c)\n",
        "circuit.cx(q[0],q[2])\n",
        "circuit.cx(q[1],q[2])\n",
        "circuit.ccx(q[0],q[1],q[2])\n",
        "print(circuit)"
      ],
      "metadata": {
        "id": "EbDRXVKuvQoK",
        "outputId": "828b3f44-116b-4108-eecd-3ba2d42e2a09",
        "colab": {
          "base_uri": "https://localhost:8080/"
        }
      },
      "execution_count": 19,
      "outputs": [
        {
          "output_type": "stream",
          "name": "stdout",
          "text": [
            "                      \n",
            "q31_0: ──■─────────■──\n",
            "         │         │  \n",
            "q31_1: ──┼────■────■──\n",
            "       ┌─┴─┐┌─┴─┐┌─┴─┐\n",
            "q31_2: ┤ X ├┤ X ├┤ X ├\n",
            "       └───┘└───┘└───┘\n",
            " c7_0: ═══════════════\n",
            "                      \n",
            " c7_1: ═══════════════\n",
            "                      \n",
            " c7_2: ═══════════════\n",
            "                      \n"
          ]
        }
      ]
    },
    {
      "cell_type": "code",
      "source": [
        "circuit.measure(q,c)\n",
        "result = execute(circuit,backend,shots=100).result()\n",
        "print(result.get_counts())"
      ],
      "metadata": {
        "id": "WY41gwKCvuSd",
        "outputId": "c9ff950c-586d-4137-9156-d9c29aa2b8f2",
        "colab": {
          "base_uri": "https://localhost:8080/"
        }
      },
      "execution_count": 20,
      "outputs": [
        {
          "output_type": "stream",
          "name": "stdout",
          "text": [
            "{'000': 100}\n"
          ]
        }
      ]
    },
    {
      "cell_type": "markdown",
      "source": [
        "4. XOR"
      ],
      "metadata": {
        "id": "77H-3WKevzTQ"
      }
    },
    {
      "cell_type": "code",
      "source": [
        "q = QuantumRegister(3)\n",
        "c = ClassicalRegister(3)\n",
        "circuit = QuantumCircuit(q,c)\n",
        "circuit.cx(q[0],q[1])\n",
        "circuit.cx(q[1],q[0])\n",
        "circuit.ccx(q[0],q[1],q[2])\n",
        "print(circuit)"
      ],
      "metadata": {
        "id": "TLAbtnADv10t",
        "outputId": "3c9590c3-6822-4f5a-8d41-5b6e5621ff68",
        "colab": {
          "base_uri": "https://localhost:8080/"
        }
      },
      "execution_count": 21,
      "outputs": [
        {
          "output_type": "stream",
          "name": "stdout",
          "text": [
            "            ┌───┐     \n",
            "q35_0: ──■──┤ X ├──■──\n",
            "       ┌─┴─┐└─┬─┘  │  \n",
            "q35_1: ┤ X ├──■────■──\n",
            "       └───┘     ┌─┴─┐\n",
            "q35_2: ──────────┤ X ├\n",
            "                 └───┘\n",
            " c8_0: ═══════════════\n",
            "                      \n",
            " c8_1: ═══════════════\n",
            "                      \n",
            " c8_2: ═══════════════\n",
            "                      \n"
          ]
        }
      ]
    },
    {
      "cell_type": "code",
      "source": [
        "circuit.measure(q,c)\n",
        "result = execute(circuit,backend,shots=100).result()\n",
        "print(result.get_counts())"
      ],
      "metadata": {
        "id": "_3HuPx1qv-5g",
        "outputId": "a5c02f98-dd91-42d7-c117-77b7883a7ca6",
        "colab": {
          "base_uri": "https://localhost:8080/"
        }
      },
      "execution_count": 22,
      "outputs": [
        {
          "output_type": "stream",
          "name": "stdout",
          "text": [
            "{'000': 100}\n"
          ]
        }
      ]
    }
  ],
  "metadata": {
    "colab": {
      "provenance": []
    },
    "kernelspec": {
      "display_name": "Python 3",
      "language": "python",
      "name": "python3"
    },
    "language_info": {
      "codemirror_mode": {
        "name": "ipython",
        "version": 3
      },
      "file_extension": ".py",
      "mimetype": "text/x-python",
      "name": "python",
      "nbconvert_exporter": "python",
      "pygments_lexer": "ipython3",
      "version": "3.6.5"
    },
    "accelerator": "GPU"
  },
  "nbformat": 4,
  "nbformat_minor": 0
}