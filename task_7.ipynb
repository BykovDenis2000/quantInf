{
  "cells": [
    {
      "cell_type": "code",
      "source": [
        "!pip install qiskit ipywidgets"
      ],
      "metadata": {
        "colab": {
          "base_uri": "https://localhost:8080/"
        },
        "id": "1JLDq4JrhBmg",
        "outputId": "c67d2345-6715-47ab-a8d9-73a4f05db7dc"
      },
      "execution_count": 1,
      "outputs": [
        {
          "output_type": "stream",
          "name": "stdout",
          "text": [
            "Looking in indexes: https://pypi.org/simple, https://us-python.pkg.dev/colab-wheels/public/simple/\n",
            "Collecting qiskit\n",
            "  Downloading qiskit-0.39.2.tar.gz (13 kB)\n",
            "Requirement already satisfied: ipywidgets in /usr/local/lib/python3.7/dist-packages (7.7.1)\n",
            "Collecting qiskit-terra==0.22.2\n",
            "  Downloading qiskit_terra-0.22.2-cp37-cp37m-manylinux_2_17_x86_64.manylinux2014_x86_64.whl (4.8 MB)\n",
            "\u001b[K     |████████████████████████████████| 4.8 MB 4.9 MB/s \n",
            "\u001b[?25hCollecting qiskit-aer==0.11.1\n",
            "  Downloading qiskit_aer-0.11.1-cp37-cp37m-manylinux_2_17_x86_64.manylinux2014_x86_64.whl (19.2 MB)\n",
            "\u001b[K     |████████████████████████████████| 19.2 MB 1.3 MB/s \n",
            "\u001b[?25hCollecting qiskit-ibmq-provider==0.19.2\n",
            "  Downloading qiskit_ibmq_provider-0.19.2-py3-none-any.whl (240 kB)\n",
            "\u001b[K     |████████████████████████████████| 240 kB 52.0 MB/s \n",
            "\u001b[?25hRequirement already satisfied: scipy>=1.0 in /usr/local/lib/python3.7/dist-packages (from qiskit-aer==0.11.1->qiskit) (1.7.3)\n",
            "Requirement already satisfied: numpy>=1.16.3 in /usr/local/lib/python3.7/dist-packages (from qiskit-aer==0.11.1->qiskit) (1.21.6)\n",
            "Collecting websockets>=10.0\n",
            "  Downloading websockets-10.4-cp37-cp37m-manylinux_2_5_x86_64.manylinux1_x86_64.manylinux_2_17_x86_64.manylinux2014_x86_64.whl (106 kB)\n",
            "\u001b[K     |████████████████████████████████| 106 kB 63.7 MB/s \n",
            "\u001b[?25hCollecting requests-ntlm>=1.1.0\n",
            "  Downloading requests_ntlm-1.1.0-py2.py3-none-any.whl (5.7 kB)\n",
            "Requirement already satisfied: requests>=2.19 in /usr/local/lib/python3.7/dist-packages (from qiskit-ibmq-provider==0.19.2->qiskit) (2.23.0)\n",
            "Collecting websocket-client>=1.0.1\n",
            "  Downloading websocket_client-1.4.2-py3-none-any.whl (55 kB)\n",
            "\u001b[K     |████████████████████████████████| 55 kB 2.7 MB/s \n",
            "\u001b[?25hRequirement already satisfied: urllib3>=1.21.1 in /usr/local/lib/python3.7/dist-packages (from qiskit-ibmq-provider==0.19.2->qiskit) (1.24.3)\n",
            "Requirement already satisfied: python-dateutil>=2.8.0 in /usr/local/lib/python3.7/dist-packages (from qiskit-ibmq-provider==0.19.2->qiskit) (2.8.2)\n",
            "Collecting ply>=3.10\n",
            "  Downloading ply-3.11-py2.py3-none-any.whl (49 kB)\n",
            "\u001b[K     |████████████████████████████████| 49 kB 5.8 MB/s \n",
            "\u001b[?25hCollecting retworkx>=0.11.0\n",
            "  Downloading retworkx-0.12.1-py3-none-any.whl (10 kB)\n",
            "Collecting tweedledum<2.0,>=1.1\n",
            "  Downloading tweedledum-1.1.1-cp37-cp37m-manylinux_2_12_x86_64.manylinux2010_x86_64.whl (943 kB)\n",
            "\u001b[K     |████████████████████████████████| 943 kB 53.8 MB/s \n",
            "\u001b[?25hRequirement already satisfied: psutil>=5 in /usr/local/lib/python3.7/dist-packages (from qiskit-terra==0.22.2->qiskit) (5.4.8)\n",
            "Requirement already satisfied: importlib-metadata<5.0 in /usr/local/lib/python3.7/dist-packages (from qiskit-terra==0.22.2->qiskit) (4.13.0)\n",
            "Collecting stevedore>=3.0.0\n",
            "  Downloading stevedore-3.5.2-py3-none-any.whl (50 kB)\n",
            "\u001b[K     |████████████████████████████████| 50 kB 4.5 MB/s \n",
            "\u001b[?25hRequirement already satisfied: typing-extensions in /usr/local/lib/python3.7/dist-packages (from qiskit-terra==0.22.2->qiskit) (4.1.1)\n",
            "Requirement already satisfied: sympy>=1.3 in /usr/local/lib/python3.7/dist-packages (from qiskit-terra==0.22.2->qiskit) (1.7.1)\n",
            "Collecting shared-memory38\n",
            "  Downloading shared_memory38-0.1.2-cp37-cp37m-manylinux_2_5_x86_64.manylinux1_x86_64.whl (25 kB)\n",
            "Requirement already satisfied: dill>=0.3 in /usr/local/lib/python3.7/dist-packages (from qiskit-terra==0.22.2->qiskit) (0.3.6)\n",
            "Collecting symengine>=0.9\n",
            "  Downloading symengine-0.9.2-cp37-cp37m-manylinux2010_x86_64.whl (37.5 MB)\n",
            "\u001b[K     |████████████████████████████████| 37.5 MB 1.3 MB/s \n",
            "\u001b[?25hRequirement already satisfied: zipp>=0.5 in /usr/local/lib/python3.7/dist-packages (from importlib-metadata<5.0->qiskit-terra==0.22.2->qiskit) (3.10.0)\n",
            "Requirement already satisfied: six>=1.5 in /usr/local/lib/python3.7/dist-packages (from python-dateutil>=2.8.0->qiskit-ibmq-provider==0.19.2->qiskit) (1.15.0)\n",
            "Requirement already satisfied: certifi>=2017.4.17 in /usr/local/lib/python3.7/dist-packages (from requests>=2.19->qiskit-ibmq-provider==0.19.2->qiskit) (2022.9.24)\n",
            "Requirement already satisfied: idna<3,>=2.5 in /usr/local/lib/python3.7/dist-packages (from requests>=2.19->qiskit-ibmq-provider==0.19.2->qiskit) (2.10)\n",
            "Requirement already satisfied: chardet<4,>=3.0.2 in /usr/local/lib/python3.7/dist-packages (from requests>=2.19->qiskit-ibmq-provider==0.19.2->qiskit) (3.0.4)\n",
            "Collecting cryptography>=1.3\n",
            "  Downloading cryptography-38.0.3-cp36-abi3-manylinux_2_24_x86_64.whl (4.1 MB)\n",
            "\u001b[K     |████████████████████████████████| 4.1 MB 47.6 MB/s \n",
            "\u001b[?25hCollecting ntlm-auth>=1.0.2\n",
            "  Downloading ntlm_auth-1.5.0-py2.py3-none-any.whl (29 kB)\n",
            "Requirement already satisfied: cffi>=1.12 in /usr/local/lib/python3.7/dist-packages (from cryptography>=1.3->requests-ntlm>=1.1.0->qiskit-ibmq-provider==0.19.2->qiskit) (1.15.1)\n",
            "Requirement already satisfied: pycparser in /usr/local/lib/python3.7/dist-packages (from cffi>=1.12->cryptography>=1.3->requests-ntlm>=1.1.0->qiskit-ibmq-provider==0.19.2->qiskit) (2.21)\n",
            "Collecting rustworkx==0.12.1\n",
            "  Downloading rustworkx-0.12.1-cp37-cp37m-manylinux_2_17_x86_64.manylinux2014_x86_64.whl (1.9 MB)\n",
            "\u001b[K     |████████████████████████████████| 1.9 MB 52.9 MB/s \n",
            "\u001b[?25hCollecting pbr!=2.1.0,>=2.0.0\n",
            "  Downloading pbr-5.11.0-py2.py3-none-any.whl (112 kB)\n",
            "\u001b[K     |████████████████████████████████| 112 kB 74.4 MB/s \n",
            "\u001b[?25hRequirement already satisfied: mpmath>=0.19 in /usr/local/lib/python3.7/dist-packages (from sympy>=1.3->qiskit-terra==0.22.2->qiskit) (1.2.1)\n",
            "Requirement already satisfied: ipykernel>=4.5.1 in /usr/local/lib/python3.7/dist-packages (from ipywidgets) (5.3.4)\n",
            "Requirement already satisfied: ipython-genutils~=0.2.0 in /usr/local/lib/python3.7/dist-packages (from ipywidgets) (0.2.0)\n",
            "Requirement already satisfied: jupyterlab-widgets>=1.0.0 in /usr/local/lib/python3.7/dist-packages (from ipywidgets) (3.0.3)\n",
            "Requirement already satisfied: widgetsnbextension~=3.6.0 in /usr/local/lib/python3.7/dist-packages (from ipywidgets) (3.6.1)\n",
            "Requirement already satisfied: traitlets>=4.3.1 in /usr/local/lib/python3.7/dist-packages (from ipywidgets) (5.1.1)\n",
            "Requirement already satisfied: ipython>=4.0.0 in /usr/local/lib/python3.7/dist-packages (from ipywidgets) (7.9.0)\n",
            "Requirement already satisfied: jupyter-client in /usr/local/lib/python3.7/dist-packages (from ipykernel>=4.5.1->ipywidgets) (6.1.12)\n",
            "Requirement already satisfied: tornado>=4.2 in /usr/local/lib/python3.7/dist-packages (from ipykernel>=4.5.1->ipywidgets) (6.0.4)\n",
            "Collecting jedi>=0.10\n",
            "  Downloading jedi-0.18.2-py2.py3-none-any.whl (1.6 MB)\n",
            "\u001b[K     |████████████████████████████████| 1.6 MB 46.2 MB/s \n",
            "\u001b[?25hRequirement already satisfied: pygments in /usr/local/lib/python3.7/dist-packages (from ipython>=4.0.0->ipywidgets) (2.6.1)\n",
            "Requirement already satisfied: pexpect in /usr/local/lib/python3.7/dist-packages (from ipython>=4.0.0->ipywidgets) (4.8.0)\n",
            "Requirement already satisfied: pickleshare in /usr/local/lib/python3.7/dist-packages (from ipython>=4.0.0->ipywidgets) (0.7.5)\n",
            "Requirement already satisfied: decorator in /usr/local/lib/python3.7/dist-packages (from ipython>=4.0.0->ipywidgets) (4.4.2)\n",
            "Requirement already satisfied: backcall in /usr/local/lib/python3.7/dist-packages (from ipython>=4.0.0->ipywidgets) (0.2.0)\n",
            "Requirement already satisfied: prompt-toolkit<2.1.0,>=2.0.0 in /usr/local/lib/python3.7/dist-packages (from ipython>=4.0.0->ipywidgets) (2.0.10)\n",
            "Requirement already satisfied: setuptools>=18.5 in /usr/local/lib/python3.7/dist-packages (from ipython>=4.0.0->ipywidgets) (57.4.0)\n",
            "Requirement already satisfied: parso<0.9.0,>=0.8.0 in /usr/local/lib/python3.7/dist-packages (from jedi>=0.10->ipython>=4.0.0->ipywidgets) (0.8.3)\n",
            "Requirement already satisfied: wcwidth in /usr/local/lib/python3.7/dist-packages (from prompt-toolkit<2.1.0,>=2.0.0->ipython>=4.0.0->ipywidgets) (0.2.5)\n",
            "Requirement already satisfied: notebook>=4.4.1 in /usr/local/lib/python3.7/dist-packages (from widgetsnbextension~=3.6.0->ipywidgets) (5.7.16)\n",
            "Requirement already satisfied: nbformat in /usr/local/lib/python3.7/dist-packages (from notebook>=4.4.1->widgetsnbextension~=3.6.0->ipywidgets) (5.7.0)\n",
            "Requirement already satisfied: pyzmq>=17 in /usr/local/lib/python3.7/dist-packages (from notebook>=4.4.1->widgetsnbextension~=3.6.0->ipywidgets) (23.2.1)\n",
            "Requirement already satisfied: nbconvert<6.0 in /usr/local/lib/python3.7/dist-packages (from notebook>=4.4.1->widgetsnbextension~=3.6.0->ipywidgets) (5.6.1)\n",
            "Requirement already satisfied: jupyter-core>=4.4.0 in /usr/local/lib/python3.7/dist-packages (from notebook>=4.4.1->widgetsnbextension~=3.6.0->ipywidgets) (4.11.2)\n",
            "Requirement already satisfied: jinja2<=3.0.0 in /usr/local/lib/python3.7/dist-packages (from notebook>=4.4.1->widgetsnbextension~=3.6.0->ipywidgets) (2.11.3)\n",
            "Requirement already satisfied: Send2Trash in /usr/local/lib/python3.7/dist-packages (from notebook>=4.4.1->widgetsnbextension~=3.6.0->ipywidgets) (1.8.0)\n",
            "Requirement already satisfied: prometheus-client in /usr/local/lib/python3.7/dist-packages (from notebook>=4.4.1->widgetsnbextension~=3.6.0->ipywidgets) (0.15.0)\n",
            "Requirement already satisfied: terminado>=0.8.1 in /usr/local/lib/python3.7/dist-packages (from notebook>=4.4.1->widgetsnbextension~=3.6.0->ipywidgets) (0.13.3)\n",
            "Requirement already satisfied: MarkupSafe>=0.23 in /usr/local/lib/python3.7/dist-packages (from jinja2<=3.0.0->notebook>=4.4.1->widgetsnbextension~=3.6.0->ipywidgets) (2.0.1)\n",
            "Requirement already satisfied: defusedxml in /usr/local/lib/python3.7/dist-packages (from nbconvert<6.0->notebook>=4.4.1->widgetsnbextension~=3.6.0->ipywidgets) (0.7.1)\n",
            "Requirement already satisfied: pandocfilters>=1.4.1 in /usr/local/lib/python3.7/dist-packages (from nbconvert<6.0->notebook>=4.4.1->widgetsnbextension~=3.6.0->ipywidgets) (1.5.0)\n",
            "Requirement already satisfied: bleach in /usr/local/lib/python3.7/dist-packages (from nbconvert<6.0->notebook>=4.4.1->widgetsnbextension~=3.6.0->ipywidgets) (5.0.1)\n",
            "Requirement already satisfied: entrypoints>=0.2.2 in /usr/local/lib/python3.7/dist-packages (from nbconvert<6.0->notebook>=4.4.1->widgetsnbextension~=3.6.0->ipywidgets) (0.4)\n",
            "Requirement already satisfied: testpath in /usr/local/lib/python3.7/dist-packages (from nbconvert<6.0->notebook>=4.4.1->widgetsnbextension~=3.6.0->ipywidgets) (0.6.0)\n",
            "Requirement already satisfied: mistune<2,>=0.8.1 in /usr/local/lib/python3.7/dist-packages (from nbconvert<6.0->notebook>=4.4.1->widgetsnbextension~=3.6.0->ipywidgets) (0.8.4)\n",
            "Requirement already satisfied: jsonschema>=2.6 in /usr/local/lib/python3.7/dist-packages (from nbformat->notebook>=4.4.1->widgetsnbextension~=3.6.0->ipywidgets) (4.3.3)\n",
            "Requirement already satisfied: fastjsonschema in /usr/local/lib/python3.7/dist-packages (from nbformat->notebook>=4.4.1->widgetsnbextension~=3.6.0->ipywidgets) (2.16.2)\n",
            "Requirement already satisfied: attrs>=17.4.0 in /usr/local/lib/python3.7/dist-packages (from jsonschema>=2.6->nbformat->notebook>=4.4.1->widgetsnbextension~=3.6.0->ipywidgets) (22.1.0)\n",
            "Requirement already satisfied: importlib-resources>=1.4.0 in /usr/local/lib/python3.7/dist-packages (from jsonschema>=2.6->nbformat->notebook>=4.4.1->widgetsnbextension~=3.6.0->ipywidgets) (5.10.0)\n",
            "Requirement already satisfied: pyrsistent!=0.17.0,!=0.17.1,!=0.17.2,>=0.14.0 in /usr/local/lib/python3.7/dist-packages (from jsonschema>=2.6->nbformat->notebook>=4.4.1->widgetsnbextension~=3.6.0->ipywidgets) (0.19.2)\n",
            "Requirement already satisfied: ptyprocess in /usr/local/lib/python3.7/dist-packages (from terminado>=0.8.1->notebook>=4.4.1->widgetsnbextension~=3.6.0->ipywidgets) (0.7.0)\n",
            "Requirement already satisfied: webencodings in /usr/local/lib/python3.7/dist-packages (from bleach->nbconvert<6.0->notebook>=4.4.1->widgetsnbextension~=3.6.0->ipywidgets) (0.5.1)\n",
            "Building wheels for collected packages: qiskit\n",
            "  Building wheel for qiskit (setup.py) ... \u001b[?25l\u001b[?25hdone\n",
            "  Created wheel for qiskit: filename=qiskit-0.39.2-py3-none-any.whl size=12224 sha256=a459e473f689e2d81d1495a999e502cf3e7b847308ce709c0af2415646ca5162\n",
            "  Stored in directory: /root/.cache/pip/wheels/30/dc/90/0ee55ccffd13c16db1abd4c43028f7c9cedb5576b190402190\n",
            "Successfully built qiskit\n",
            "Installing collected packages: jedi, rustworkx, pbr, tweedledum, symengine, stevedore, shared-memory38, retworkx, ply, ntlm-auth, cryptography, websockets, websocket-client, requests-ntlm, qiskit-terra, qiskit-ibmq-provider, qiskit-aer, qiskit\n",
            "Successfully installed cryptography-38.0.3 jedi-0.18.2 ntlm-auth-1.5.0 pbr-5.11.0 ply-3.11 qiskit-0.39.2 qiskit-aer-0.11.1 qiskit-ibmq-provider-0.19.2 qiskit-terra-0.22.2 requests-ntlm-1.1.0 retworkx-0.12.1 rustworkx-0.12.1 shared-memory38-0.1.2 stevedore-3.5.2 symengine-0.9.2 tweedledum-1.1.1 websocket-client-1.4.2 websockets-10.4\n"
          ]
        }
      ]
    },
    {
      "cell_type": "code",
      "source": [
        "import qiskit"
      ],
      "metadata": {
        "id": "i5yO-UNohCD_"
      },
      "execution_count": 2,
      "outputs": []
    },
    {
      "cell_type": "code",
      "source": [
        "from qiskit import QuantumCircuit, ClassicalRegister, QuantumRegister, execute, BasicAer\n"
      ],
      "metadata": {
        "id": "--LR-GU2hCOt"
      },
      "execution_count": 3,
      "outputs": []
    },
    {
      "cell_type": "code",
      "source": [
        "backend = BasicAer.get_backend('qasm_simulator')"
      ],
      "metadata": {
        "id": "t6HzQ9g5h45p"
      },
      "execution_count": 4,
      "outputs": []
    },
    {
      "cell_type": "markdown",
      "source": [
        "1. ![Снимок1.JPG](data:image/jpeg;base64,/9j/4AAQSkZJRgABAQEAkACQAAD/4RDSRXhpZgAATU0AKgAAAAgABAE7AAIAAAAERGVuAIdpAAQAAAABAAAISpydAAEAAAAIAAAQwuocAAcAAAgMAAAAPgAAAAAc6gAAAAgAAAAAAAAAAAAAAAAAAAAAAAAAAAAAAAAAAAAAAAAAAAAAAAAAAAAAAAAAAAAAAAAAAAAAAAAAAAAAAAAAAAAAAAAAAAAAAAAAAAAAAAAAAAAAAAAAAAAAAAAAAAAAAAAAAAAAAAAAAAAAAAAAAAAAAAAAAAAAAAAAAAAAAAAAAAAAAAAAAAAAAAAAAAAAAAAAAAAAAAAAAAAAAAAAAAAAAAAAAAAAAAAAAAAAAAAAAAAAAAAAAAAAAAAAAAAAAAAAAAAAAAAAAAAAAAAAAAAAAAAAAAAAAAAAAAAAAAAAAAAAAAAAAAAAAAAAAAAAAAAAAAAAAAAAAAAAAAAAAAAAAAAAAAAAAAAAAAAAAAAAAAAAAAAAAAAAAAAAAAAAAAAAAAAAAAAAAAAAAAAAAAAAAAAAAAAAAAAAAAAAAAAAAAAAAAAAAAAAAAAAAAAAAAAAAAAAAAAAAAAAAAAAAAAAAAAAAAAAAAAAAAAAAAAAAAAAAAAAAAAAAAAAAAAAAAAAAAAAAAAAAAAAAAAAAAAAAAAAAAAAAAAAAAAAAAAAAAAAAAAAAAAAAAAAAAAAAAAAAAAAAAAAAAAAAAAAAAAAAAAAAAAAAAAAAAAAAAAAAAAAAAAAAAAAAAAAAAAAAAAAAAAAAAAAAAAAAAAAAAAAAAAAAAAAAAAAAAAAAAAAAAAAAAAAAAAAAAAAAAAAAAAAAAAAAAAAAAAAAAAAAAAAAAAAAAAAAAAAAAAAAAAAAAAAAAAAAAAAAAAAAAAAAAAAAAAAAAAAAAAAAAAAAAAAAAAAAAAAAAAAAAAAAAAAAAAAAAAAAAAAAAAAAAAAAAAAAAAAAAAAAAAAAAAAAAAAAAAAAAAAAAAAAAAAAAAAAAAAAAAAAAAAAAAAAAAAAAAAAAAAAAAAAAAAAAAAAAAAAAAAAAAAAAAAAAAAAAAAAAAAAAAAAAAAAAAAAAAAAAAAAAAAAAAAAAAAAAAAAAAAAAAAAAAAAAAAAAAAAAAAAAAAAAAAAAAAAAAAAAAAAAAAAAAAAAAAAAAAAAAAAAAAAAAAAAAAAAAAAAAAAAAAAAAAAAAAAAAAAAAAAAAAAAAAAAAAAAAAAAAAAAAAAAAAAAAAAAAAAAAAAAAAAAAAAAAAAAAAAAAAAAAAAAAAAAAAAAAAAAAAAAAAAAAAAAAAAAAAAAAAAAAAAAAAAAAAAAAAAAAAAAAAAAAAAAAAAAAAAAAAAAAAAAAAAAAAAAAAAAAAAAAAAAAAAAAAAAAAAAAAAAAAAAAAAAAAAAAAAAAAAAAAAAAAAAAAAAAAAAAAAAAAAAAAAAAAAAAAAAAAAAAAAAAAAAAAAAAAAAAAAAAAAAAAAAAAAAAAAAAAAAAAAAAAAAAAAAAAAAAAAAAAAAAAAAAAAAAAAAAAAAAAAAAAAAAAAAAAAAAAAAAAAAAAAAAAAAAAAAAAAAAAAAAAAAAAAAAAAAAAAAAAAAAAAAAAAAAAAAAAAAAAAAAAAAAAAAAAAAAAAAAAAAAAAAAAAAAAAAAAAAAAAAAAAAAAAAAAAAAAAAAAAAAAAAAAAAAAAAAAAAAAAAAAAAAAAAAAAAAAAAAAAAAAAAAAAAAAAAAAAAAAAAAAAAAAAAAAAAAAAAAAAAAAAAAAAAAAAAAAAAAAAAAAAAAAAAAAAAAAAAAAAAAAAAAAAAAAAAAAAAAAAAAAAAAAAAAAAAAAAAAAAAAAAAAAAAAAAAAAAAAAAAAAAAAAAAAAAAAAAAAAAAAAAAAAAAAAAAAAAAAAAAAAAAAAAAAAAAAAAAAAAAAAAAAAAAAAAAAAAAAAAAAAAAAAAAAAAAAAAAAAAAAAAAAAAAAAAAAAAAAAAAAAAAAAAAAAAAAAAAAAAAAAAAAAAAAAAAAAAAAAAAAAAAAAAAAAAAAAAAAAAAAAAAAAAAAAAAAAAAAAAAAAAAAAAAAAAAAAAAAAAAAAAAAAAAAAAAAAAAAAAAAAAAAAAAAAAAAAAAAAAAAAAAAAAAAAAAAAAAAAAAAAAAAAAAAAAAAAAAAAAAAAAAAAAAAAAAAAAAAAAAAAAAAAAAAAAAAAAAAAAAAAAAAAAAAAAAAAAAAAAAAAAAAAAAAAAAAAAAAAAAAAAAAAAAAAAAAAAAAAAAAAAAAAAAAAAAAAAAAAAAAAAAAAAAAAAAAAAAAAAAAAAAAAAAAAAAAAAAAAAAAAAAAAAAAAAAAAAAAAAAAAAAAAAAAAAAAAAAAAAAAAAAAAAAAAAAAAAAAAAAAAAAAAAAAAAAAAAAAAAAAAAAAAAAAAAAAAAAAAAAAAAAAAAAAAAAAAAAAAAAAAAAAAAAAAAAAAAAAAAAAAAAAAAAAAAAAAAAAAAAAAAAAAAAAAAAAAAAAAAAAAAAAAAAAAAAAAAAAAAAAAAAAAAAAAAAAAAAAAAAAAAAAAAAAAAAAAAAAAAAAAAAAAAAAAAAAAAAAAAAAAAAAAAAAAAAAAAAAAAAAAAAAAAAAAAAAAAAAAAAAAAAAAAAAAAAAAAAAAAAAAAAAAAAAAAAAAAAAAAAAAAAAAAAAAAAAAAAAAAAAAAAAAAAAAAAAAAAAAAAAAAAAAAAAAAAAAAAAAAAAAAAAAAAAAAAAAAAAAAAAAAAAAAAAAAAAAAAAAAAAAAAAAAAAAAAAAAAAAAAAAAAAAAAAAAAAAAAAAAAAAAAAAAAAAAAAAAAAAAAAAAAAAAAAAAAAAAAAAAAAAAAAAAAAAAAAAAAAAAAAAAAAAAAAAAAAFkAMAAgAAABQAABCYkAQAAgAAABQAABCskpEAAgAAAAM3NAAAkpIAAgAAAAM3NAAA6hwABwAACAwAAAiMAAAAABzqAAAACAAAAAAAAAAAAAAAAAAAAAAAAAAAAAAAAAAAAAAAAAAAAAAAAAAAAAAAAAAAAAAAAAAAAAAAAAAAAAAAAAAAAAAAAAAAAAAAAAAAAAAAAAAAAAAAAAAAAAAAAAAAAAAAAAAAAAAAAAAAAAAAAAAAAAAAAAAAAAAAAAAAAAAAAAAAAAAAAAAAAAAAAAAAAAAAAAAAAAAAAAAAAAAAAAAAAAAAAAAAAAAAAAAAAAAAAAAAAAAAAAAAAAAAAAAAAAAAAAAAAAAAAAAAAAAAAAAAAAAAAAAAAAAAAAAAAAAAAAAAAAAAAAAAAAAAAAAAAAAAAAAAAAAAAAAAAAAAAAAAAAAAAAAAAAAAAAAAAAAAAAAAAAAAAAAAAAAAAAAAAAAAAAAAAAAAAAAAAAAAAAAAAAAAAAAAAAAAAAAAAAAAAAAAAAAAAAAAAAAAAAAAAAAAAAAAAAAAAAAAAAAAAAAAAAAAAAAAAAAAAAAAAAAAAAAAAAAAAAAAAAAAAAAAAAAAAAAAAAAAAAAAAAAAAAAAAAAAAAAAAAAAAAAAAAAAAAAAAAAAAAAAAAAAAAAAAAAAAAAAAAAAAAAAAAAAAAAAAAAAAAAAAAAAAAAAAAAAAAAAAAAAAAAAAAAAAAAAAAAAAAAAAAAAAAAAAAAAAAAAAAAAAAAAAAAAAAAAAAAAAAAAAAAAAAAAAAAAAAAAAAAAAAAAAAAAAAAAAAAAAAAAAAAAAAAAAAAAAAAAAAAAAAAAAAAAAAAAAAAAAAAAAAAAAAAAAAAAAAAAAAAAAAAAAAAAAAAAAAAAAAAAAAAAAAAAAAAAAAAAAAAAAAAAAAAAAAAAAAAAAAAAAAAAAAAAAAAAAAAAAAAAAAAAAAAAAAAAAAAAAAAAAAAAAAAAAAAAAAAAAAAAAAAAAAAAAAAAAAAAAAAAAAAAAAAAAAAAAAAAAAAAAAAAAAAAAAAAAAAAAAAAAAAAAAAAAAAAAAAAAAAAAAAAAAAAAAAAAAAAAAAAAAAAAAAAAAAAAAAAAAAAAAAAAAAAAAAAAAAAAAAAAAAAAAAAAAAAAAAAAAAAAAAAAAAAAAAAAAAAAAAAAAAAAAAAAAAAAAAAAAAAAAAAAAAAAAAAAAAAAAAAAAAAAAAAAAAAAAAAAAAAAAAAAAAAAAAAAAAAAAAAAAAAAAAAAAAAAAAAAAAAAAAAAAAAAAAAAAAAAAAAAAAAAAAAAAAAAAAAAAAAAAAAAAAAAAAAAAAAAAAAAAAAAAAAAAAAAAAAAAAAAAAAAAAAAAAAAAAAAAAAAAAAAAAAAAAAAAAAAAAAAAAAAAAAAAAAAAAAAAAAAAAAAAAAAAAAAAAAAAAAAAAAAAAAAAAAAAAAAAAAAAAAAAAAAAAAAAAAAAAAAAAAAAAAAAAAAAAAAAAAAAAAAAAAAAAAAAAAAAAAAAAAAAAAAAAAAAAAAAAAAAAAAAAAAAAAAAAAAAAAAAAAAAAAAAAAAAAAAAAAAAAAAAAAAAAAAAAAAAAAAAAAAAAAAAAAAAAAAAAAAAAAAAAAAAAAAAAAAAAAAAAAAAAAAAAAAAAAAAAAAAAAAAAAAAAAAAAAAAAAAAAAAAAAAAAAAAAAAAAAAAAAAAAAAAAAAAAAAAAAAAAAAAAAAAAAAAAAAAAAAAAAAAAAAAAAAAAAAAAAAAAAAAAAAAAAAAAAAAAAAAAAAAAAAAAAAAAAAAAAAAAAAAAAAAAAAAAAAAAAAAAAAAAAAAAAAAAAAAAAAAAAAAAAAAAAAAAAAAAAAAAAAAAAAAAAAAAAAAAAAAAAAAAAAAAAAAAAAAAAAAAAAAAAAAAAAAAAAAAAAAAAAAAAAAAAAAAAAAAAAAAAAAAAAAAAAAAAAAAAAAAAAAAAAAAAAAAAAAAAAAAAAAAAAAAAAAAAAAAAAAAAAAAAAAAAAAAAAAAAAAAAAAAAAAAAAAAAAAAAAAAAAAAAAAAAAAAAAAAAAAAAAAAAAAAAAAAAAAAAAAAAAAAAAAAAAAAAAAAAAAAAAAAAAAAAAAAAAAAAAAAAAAAAAAAAAAAAAAAAAAAAAAAAAAAAAAAAAAAAAAAAAAAAAAAAAAAAAAAAAAAAAAAAAAAAAAAAAAAAAAAAAAAAAAAAAAAAAAAAAAAAAAAAAAAAAAAAAAAAAAAAAAAAAAAAAAAAAAAAAAAAAAAAAAAAAAAAAAAAAAAAAAAAAAAAAAAAAAAAAAAAAAAAAAAAAAAAAAAAAAAAAAAAAAAAAAAAAAAAAAAAAAAAAAAAAAAAAAAAAAAAAAAAAAAAAAAAAAAAAAAAAAAAAAAAAAAAAAAAAAAAAAAAAAAAAAAAAAAAAAAAAAAAAAAAAAAAAAAAAAAAAAAAAAAAAAAAAAAAAAAAAAAAAAAAAAAAAAAAAAAAAAAAAAAAAAAAAAAAAAAAAAAAAAAAAAAAAAAAAAAAAAAAAAAAAAAAAAAAAAAAAAAAAAAAAAAAAAAAAAAAAAAAAAAAAAAAAAAAAAAAAAAAAAAAAAAAAAAAAAAAAAAAAAAAAAAAAAAAAAAAAAAAAAAAAAAAAAAAAAAAAAAAAAAAAAAAAAAAAAAAAAAAAAAAAAAAAAAAAAAAAAAAAAAAAAAAAAAAAAAAAAAAAAAAAAAAAAAAAAAAAAAAAAAAAAAAAAAAAAAAAAAAAAAAAAAAAAAAAAAAAAAAAAAAAAAAAAAAAAAAAAAAAAAAAAAAAAAAAAAAAAAAAAAAAAAAAAAAAAAAAAAAAAAAAAAAMjAyMjoxMToyNCAxNjo1NzoyNgAyMDIyOjExOjI0IDE2OjU3OjI2AAAARABlAG4AAAD/4QsWaHR0cDovL25zLmFkb2JlLmNvbS94YXAvMS4wLwA8P3hwYWNrZXQgYmVnaW49J++7vycgaWQ9J1c1TTBNcENlaGlIenJlU3pOVGN6a2M5ZCc/Pg0KPHg6eG1wbWV0YSB4bWxuczp4PSJhZG9iZTpuczptZXRhLyI+PHJkZjpSREYgeG1sbnM6cmRmPSJodHRwOi8vd3d3LnczLm9yZy8xOTk5LzAyLzIyLXJkZi1zeW50YXgtbnMjIj48cmRmOkRlc2NyaXB0aW9uIHJkZjphYm91dD0idXVpZDpmYWY1YmRkNS1iYTNkLTExZGEtYWQzMS1kMzNkNzUxODJmMWIiIHhtbG5zOmRjPSJodHRwOi8vcHVybC5vcmcvZGMvZWxlbWVudHMvMS4xLyIvPjxyZGY6RGVzY3JpcHRpb24gcmRmOmFib3V0PSJ1dWlkOmZhZjViZGQ1LWJhM2QtMTFkYS1hZDMxLWQzM2Q3NTE4MmYxYiIgeG1sbnM6eG1wPSJodHRwOi8vbnMuYWRvYmUuY29tL3hhcC8xLjAvIj48eG1wOkNyZWF0ZURhdGU+MjAyMi0xMS0yNFQxNjo1NzoyNi43MzU8L3htcDpDcmVhdGVEYXRlPjwvcmRmOkRlc2NyaXB0aW9uPjxyZGY6RGVzY3JpcHRpb24gcmRmOmFib3V0PSJ1dWlkOmZhZjViZGQ1LWJhM2QtMTFkYS1hZDMxLWQzM2Q3NTE4MmYxYiIgeG1sbnM6ZGM9Imh0dHA6Ly9wdXJsLm9yZy9kYy9lbGVtZW50cy8xLjEvIj48ZGM6Y3JlYXRvcj48cmRmOlNlcSB4bWxuczpyZGY9Imh0dHA6Ly93d3cudzMub3JnLzE5OTkvMDIvMjItcmRmLXN5bnRheC1ucyMiPjxyZGY6bGk+RGVuPC9yZGY6bGk+PC9yZGY6U2VxPg0KCQkJPC9kYzpjcmVhdG9yPjwvcmRmOkRlc2NyaXB0aW9uPjwvcmRmOlJERj48L3g6eG1wbWV0YT4NCiAgICAgICAgICAgICAgICAgICAgICAgICAgICAgICAgICAgICAgICAgICAgICAgICAgICAgICAgICAgICAgICAgICAgICAgICAgICAgICAgICAgICAgICAgICAgICAgICAgICAKICAgICAgICAgICAgICAgICAgICAgICAgICAgICAgICAgICAgICAgICAgICAgICAgICAgICAgICAgICAgICAgICAgICAgICAgICAgICAgICAgICAgICAgICAgICAgICAgICAgIAogICAgICAgICAgICAgICAgICAgICAgICAgICAgICAgICAgICAgICAgICAgICAgICAgICAgICAgICAgICAgICAgICAgICAgICAgICAgICAgICAgICAgICAgICAgICAgICAgICAgCiAgICAgICAgICAgICAgICAgICAgICAgICAgICAgICAgICAgICAgICAgICAgICAgICAgICAgICAgICAgICAgICAgICAgICAgICAgICAgICAgICAgICAgICAgICAgICAgICAgICAKICAgICAgICAgICAgICAgICAgICAgICAgICAgICAgICAgICAgICAgICAgICAgICAgICAgICAgICAgICAgICAgICAgICAgICAgICAgICAgICAgICAgICAgICAgICAgICAgICAgIAogICAgICAgICAgICAgICAgICAgICAgICAgICAgICAgICAgICAgICAgICAgICAgICAgICAgICAgICAgICAgICAgICAgICAgICAgICAgICAgICAgICAgICAgICAgICAgICAgICAgCiAgICAgICAgICAgICAgICAgICAgICAgICAgICAgICAgICAgICAgICAgICAgICAgICAgICAgICAgICAgICAgICAgICAgICAgICAgICAgICAgICAgICAgICAgICAgICAgICAgICAKICAgICAgICAgICAgICAgICAgICAgICAgICAgICAgICAgICAgICAgICAgICAgICAgICAgICAgICAgICAgICAgICAgICAgICAgICAgICAgICAgICAgICAgICAgICAgICAgICAgIAogICAgICAgICAgICAgICAgICAgICAgICAgICAgICAgICAgICAgICAgICAgICAgICAgICAgICAgICAgICAgICAgICAgICAgICAgICAgICAgICAgICAgICAgICAgICAgICAgICAgCiAgICAgICAgICAgICAgICAgICAgICAgICAgICAgICAgICAgICAgICAgICAgICAgICAgICAgICAgICAgICAgICAgICAgICAgICAgICAgICAgICAgICAgICAgICAgICAgICAgICAKICAgICAgICAgICAgICAgICAgICAgICAgICAgICAgICAgICAgICAgICAgICAgICAgICAgICAgICAgICAgICAgICAgICAgICAgICAgICAgICAgICAgICAgICAgICAgICAgICAgIAogICAgICAgICAgICAgICAgICAgICAgICAgICAgICAgICAgICAgICAgICAgICAgICAgICAgICAgICAgICAgICAgICAgICAgICAgICAgICAgICAgICAgICAgICAgICAgICAgICAgCiAgICAgICAgICAgICAgICAgICAgICAgICAgICAgICAgICAgICAgICAgICAgICAgICAgICAgICAgICAgICAgICAgICAgICAgICAgICAgICAgICAgICAgICAgICAgICAgICAgICAKICAgICAgICAgICAgICAgICAgICAgICAgICAgICAgICAgICAgICAgICAgICAgICAgICAgICAgICAgICAgICAgICAgICAgICAgICAgICAgICAgICAgICAgICAgICAgICAgICAgIAogICAgICAgICAgICAgICAgICAgICAgICAgICAgICAgICAgICAgICAgICAgICAgICAgICAgICAgICAgICAgICAgICAgICAgICAgICAgICAgICAgICAgICAgICAgICAgICAgICAgCiAgICAgICAgICAgICAgICAgICAgICAgICAgICAgICAgICAgICAgICAgICAgICAgICAgICAgICAgICAgICAgICAgICAgICAgICAgICAgICAgICAgICAgICAgICAgICAgICAgICAKICAgICAgICAgICAgICAgICAgICAgICAgICAgICAgICAgICAgICAgICAgICAgICAgICAgICAgICAgICAgICAgICAgICAgICAgICAgICAgICAgICAgICAgICAgICAgICAgICAgIAogICAgICAgICAgICAgICAgICAgICAgICAgICAgICAgICAgICAgICAgICAgICAgICAgICAgICAgICAgICAgICAgICAgICAgICAgICAgICAgICAgICAgICAgICAgICAgICAgICAgCiAgICAgICAgICAgICAgICAgICAgICAgICAgICAgICAgICAgICAgICAgICAgICAgICAgICAgICAgICAgICAgICAgICAgICAgICAgICAgICAgICAgICAgICAgICAgICAgICAgICAKICAgICAgICAgICAgICAgICAgICAgICAgICAgICAgICAgICAgICAgICAgICAgICAgICAgICAgICAgICAgICAgICAgICAgICAgICAgICAgICAgICAgICAgICAgICAgICAgICAgIAogICAgICAgICAgICAgICAgICAgICAgICAgICAgPD94cGFja2V0IGVuZD0ndyc/Pv/bAEMABwUFBgUEBwYFBggHBwgKEQsKCQkKFQ8QDBEYFRoZGBUYFxseJyEbHSUdFxgiLiIlKCkrLCsaIC8zLyoyJyorKv/bAEMBBwgICgkKFAsLFCocGBwqKioqKioqKioqKioqKioqKioqKioqKioqKioqKioqKioqKioqKioqKioqKioqKioqKv/AABEIANsC5gMBIgACEQEDEQH/xAAfAAABBQEBAQEBAQAAAAAAAAAAAQIDBAUGBwgJCgv/xAC1EAACAQMDAgQDBQUEBAAAAX0BAgMABBEFEiExQQYTUWEHInEUMoGRoQgjQrHBFVLR8CQzYnKCCQoWFxgZGiUmJygpKjQ1Njc4OTpDREVGR0hJSlNUVVZXWFlaY2RlZmdoaWpzdHV2d3h5eoOEhYaHiImKkpOUlZaXmJmaoqOkpaanqKmqsrO0tba3uLm6wsPExcbHyMnK0tPU1dbX2Nna4eLj5OXm5+jp6vHy8/T19vf4+fr/xAAfAQADAQEBAQEBAQEBAAAAAAAAAQIDBAUGBwgJCgv/xAC1EQACAQIEBAMEBwUEBAABAncAAQIDEQQFITEGEkFRB2FxEyIygQgUQpGhscEJIzNS8BVictEKFiQ04SXxFxgZGiYnKCkqNTY3ODk6Q0RFRkdISUpTVFVWV1hZWmNkZWZnaGlqc3R1dnd4eXqCg4SFhoeIiYqSk5SVlpeYmZqio6Slpqeoqaqys7S1tre4ubrCw8TFxsfIycrS09TV1tfY2dri4+Tl5ufo6ery8/T19vf4+fr/2gAMAwEAAhEDEQA/APpGiiigAooooAKKKKACiiigAooooAKKKKACiiigAooooAKKKKACiiigAooooAKKKKACiiigAooooAKKKKACiiigAooooAKKKKACiiigAooooAKKKKACiiigAooooAKKKKACiiigAooooAKKKKACiiigAooooAKKKKACiiigAooooAKKKKACiiigAooooAKKKKACiiigAooooAKKKKACiiigAooooAKKKKACiiigAooooAKKKKACiiigAooooAKKKKACiiigAooooAKKKKACiiigAooooAKKKKACiiigAooooAKKKKACiiigAooooAKKKKACiiigAooooAKKKKACiuC1v42eA/D2t3Wk6vrLQXto/lzR/ZJm2tjPUKQevaqH/DQvw0/6D7/+AU//AMRQB6ZRXmf/AA0L8NP+g+//AIBT/wDxFH/DQvw0/wCg+/8A4BT/APxFAHplFeZ/8NC/DT/oPv8A+AU//wARR/w0L8NP+g+//gFP/wDEUAemUV5n/wANC/DT/oPv/wCAU/8A8RUtr8ffhzeXcNtb667SzSLHGv2OYZYnAH3PU0Aej0UUUAFFFFABRRXicvxB+JGt/E7xH4Z8HWuhvFo8g+a9DqxQ4A5B5OT6CgD2yivJ/tHx2/58vCf/AH8k/wAaPtHx2/58vCX/AH8k/wAaAPWKK8n+0fHb/ny8Jf8AfyT/ABo+0fHb/ny8Jf8AfyT/ABoA9Yoryf7R8dv+fLwl/wB/JP8AGj7R8dv+fLwl/wB/JP8AGgD1iivJ/tHx2/58vCf/AH8k/wAaPtHx2/58vCX/AH8k/wAaAPWKK8n+0fHb/ny8Jf8AfyT/ABo+0fHb/ny8Jf8AfyT/ABoA9Yoryf7R8dv+fLwl/wB/JP8AGj7R8dv+fLwl/wB/JP8AGgD1iivJ/tHx2/58vCX/AH8k/wAaTwd438dP8Wj4P8b2+kRn+zWvQ2nhz/EAOSfrxigD1miiigAooooAKKbJIsUbSOcKoLE+gFea/wDDQ3w0/wCg+/8A4BT/APxFAHplFeZ/8NC/DT/oPv8A+AU//wARR/w0L8NP+g+//gFP/wDEUAemUV5n/wANC/DT/oPv/wCAU/8A8RR/w0L8NP8AoPv/AOAU/wD8RQB6ZRXmf/DQvw0/6D7/APgFP/8AEUf8NC/DT/oPv/4BT/8AxFAHplFcb4V+LHg7xrrB0vw5qjXd4sTTGM20ifICATllA7iuyoAKKKKACiiigAorgda+NvgLw/rV1pOra00N7aSeXNGLSZtremQpB/CqP/DQvw0/6D7/APgFP/8AEUAemUV5n/w0L8NP+g+//gFP/wDEUf8ADQvw0/6D7/8AgFP/APEUAemUV5n/AMNC/DT/AKD7/wDgFP8A/EUf8NC/DT/oPv8A+AU//wARQB6ZRXmf/DQvw0/6D7/+AU//AMRR/wANC/DT/oPv/wCAU/8A8RQB6ZRXmf8Aw0L8NP8AoPv/AOAU/wD8RWjoPxo8C+JtdttH0XWGuL66YrDEbWVdxCljyVAHAPWgDu6KKKACiiigAooooAKKKKACiiigAooooAKKK4vwzNK/xV8bxPI7Rxiw2IWJC5hOcDtQB2lFcz4l8XHSdZ07QNJtBf65qYZ4IGk2RxRr96WRsEhR04BJPAqlqfi3VfCM1nL4wt7JtLu51tzf2LOBau3C+YrfwE8bgeD1FAHZ0VyHxNs76fwVLqGjO4v9Hlj1KBUYjzPKO5kOOoZNwx710mk6nbazo9nqdi++2vIUmib1VhkfzoAt0UUUAFFFFABRRRQAUUUUAFFFFABRRRQAUUUUAFFFFABRRRQAUUUUAeNfD/SNN1T4y/Er+09Ptbzy7y32faIVk25Vs4yDjpXp3/CJeHP+hf0v/wAAo/8ACvPfhh/yWX4nf9flv/6C9es0AZH/AAiXhz/oX9L/APAKP/Cj/hEvDn/Qv6X/AOAUf+FasjiKJpGztUFjtUk8ew5Ncc/xZ8HRaoumS6jOmoNjFo1hOJTkZ+5szQBuf8Il4c/6F/S//AKP/Cj/AIRLw5/0L+l/+AUf+FTvrVpHog1VlufsxUMALWQyYJx/qwu/9K52z+LHg/Ub2Wz0/UZ7q6hJEsENhO7xkHHzKEyOfWgDb/4RLw5/0L+l/wDgFH/hXjfx/wBG0zS7rwS+mabaWbPrCh2t4FjLDK8HA5r3uvEf2jf9f4H/AOwyP5rQB7dRRRQAUUUUAFeJfDP/AJOQ+Iv0T/0IV7bXiXwz/wCTkPiL9E/9CFAHttFFFABRRRQAUUUUAFFFFABRRRQAUUUUAFeRj/k7g/8AYtf+1a9cryMf8ncn/sWv/alAHrlFFFABRRRQBBff8g65/wCuTfyNeP8A7PPh/RtQ+D9nPf6TY3UxuZwZJ7ZHYgOcckZr2C+/5B1z/wBcm/ka8w/Zt/5IvZf9fVx/6GaAO/8A+ES8Of8AQv6X/wCAUf8AhR/wiXhz/oX9L/8AAKP/AArXqnqmq22j2X2q9E5i3Bf3Fu8zZP8AsoCce+KAKn/CJeHP+hf0v/wCj/wo/wCES8Of9C/pf/gFH/hWNpfxV8Ia3dNbaPqM19MjBXS3sZ3KEnA3YT5efWtjX/FOleGIRNrMk8MOxnaVLWSREUdSzIpC/jigBf8AhEvDn/Qv6X/4BR/4Uf8ACJeHP+hf0v8A8Ao/8Ko+H/iB4c8UyomgXc16rkgSpaTCMEDJBcqFH510tAHkFpp9npv7VKQ6dZ29pEfDbMUgjVFJ80c4Ar1+vKW/5Owj/wCxZP8A6NFerUAFFFFABRRRQB5B8O9H0zVPid8SjqenWl4Y9UiCG4gWQrlWzjcOK9I/4RLw5/0L+l/+AUf+FcH8LP8AkpvxN/7CsP8A6C1ep0AZH/CJeHP+hf0v/wAAo/8ACj/hEvDn/Qv6X/4BR/4Vr0UAZH/CJeHP+hf0v/wCj/wo/wCES8Of9C/pf/gFH/hWvRQBkf8ACJeHP+hf0v8A8Ao/8KP+ES8Of9C/pf8A4BR/4Vr15F8R/wBoLw94RhlstAki1rWOVCxNmGFv9th1x/dHP0oA9G/4RLw5/wBC/pf/AIBR/wCFeX+MNL0/S/2hvh0umWNtZrIt2XFvCsYY+WeuAM16R4HGqHwVpk+v3JudSuoRcXLkYCs/zbQOwUEKPpXBeP8A/k4n4b/7l5/6LNAHrlFFFABRRRQAUUUUAFFFFABRRRQAUUUUAFcR4X/5K146+mn/APog129cR4X/AOSteOvpp/8A6INAHKeG7ltU/as8UPM27+zdKjt4Qf4QfLY4/En866T44wpP8FvEQcZ2QK49iJFIrl/CsRsf2rfF8Uvym70yOaP/AGh+7/8Ar11PxwlWH4K+Iyxxut1Ue5MiigDc8Cagda+HOgXtx873OmwtLu53MUG79c1ifDRm0abXPBk+QdDvC1mCetnNl4vrg7l/4DWv8OLB9M+GXhyzlGJI9Ng3g9iUBI/M1jgfbPj80mn/ACjT9D8rUnB4cyS7oUPuArt9DQB3tFFFABRXmOr+HPi/PrV7Lo/jjS7XT5J3a2gksEZooyflUnyzkgYGc1S/4Rf43f8ARQNH/wDBan/xugD1uivJP+EX+N3/AEUDR/8AwWp/8bo/4Rf43f8ARQNH/wDBan/xugD1uivJP+EX+N3/AEUDR/8AwWp/8bo/4Rf43f8ARQNH/wDBan/xugD1uivJP+EX+N3/AEUDR/8AwWp/8bo/4Rf43f8ARQNH/wDBan/xugD1uivJP+EX+N3/AEUDR/8AwWp/8bo/4Rf43f8ARQNH/wDBan/xugD1uivJP+EX+N3/AEUDR/8AwWp/8bo/4Rf43f8ARQNH/wDBan/xugD1uivJP+EX+N3/AEUDR/8AwWp/8bo/4Rf43f8ARQNH/wDBan/xugD1uivJP+EX+N3/AEUDR/8AwWp/8bo/4Rf43f8ARQNH/wDBan/xugD1uivJP+EX+N3/AEUDR/8AwWp/8bo/4Rf43f8ARQNH/wDBan/xugB3ww/5LL8Tv+vy3/8AQXr1mvFPghb6ra/Eb4hQeIbyO+1NLm3FxcxRhFkbD8hQBjt2r2ugArxPwEn/AAlP7SXjLxGTvt9IjGnQN23cKcf98P8A99V65r+qxaH4c1HVbhtsdlbSTsf91Sf6V4z8CfBmqXPw/bXYvEeoaXLrN1JcSR28cLBwGKg5dGPY9+9AHt97dxWFhcXlw22K3iaVyeyqMn+VeQ/s42Utz4d17xVdcz67qckgJHJVSf8A2Zm/Km/Ga11Xwx8K9Uurjxlqt19oVbVbeWK3Cy7zgglYwR8u48Gu++Geg/8ACNfDPQtLIxJFaI8vGPnf52/VjQB1NeI/tG/6/wAD/wDYZH81r26vC/2mUnkg8HJZyCK4bVSIpGGQj4XBI74OKAPdKK8l/wCEX+N3/RQNH/8ABan/AMbpP+EX+N3/AEUDR/8AwWp/8boA9boryT/hF/jd/wBFA0f/AMFqf/G6P+EX+N3/AEUDR/8AwWp/8boA9brxL4Z/8nIfEX6J/wChCtL/AIRf43f9FA0f/wAFqf8Axuuc+Clvqtr8cfHUHiG8jvtSSJBcXMSBFkbcOQoAx+VAHv1FFFABRRRQAUUUUAFFFFABRRRQAUUUUAFeRj/k7k/9i1/7Ur1yvBPGNj4m1D9pzyfBerW+k6j/AGArG4uIRKpj8w5XBB5JxzjtQB73RXkn/CL/ABu/6KBo/wD4LU/+N0f8Iv8AG7/ooGj/APgtT/43QB63RXkn/CL/ABu/6KBo/wD4LU/+N0f8Iv8AG7/ooGj/APgtT/43QB6pff8AIOuf+uTfyNeYfs3f8kXsv+vq4/8AQzVW68MfGsWcxl8faQyCNtwGnJyMc/8ALOrX7Nv/ACRey/6+rj/0M0AerVmeJNYTw/4X1PV5cFbK1knwe5VSQPxPFadeU/tGa1JpnwnmsbbJuNXuY7NAOpGdzY+oXH40AM/Zx0p7X4XnVblT9p1m9lu5HPVxnYD/AOOk/jWl8ete/sH4O6sUOJb4LZR84++fm/8AHQ1WvD/w/wBW0bw3p2m2/jLVbaO1t0jEMcNvtTAGQCYyeuetecfFLSNQvfiP4I8HXfiC+1iK8vBdzx3KRKERTjPyIp6CTrQB6/8ADnQx4c+G+haWF2vDZRmQY/jYbm/8eJrpaAMDAooA8pb/AJOwT/sWT/6NFerV4T40sfE2oftKRQ+C9Wt9J1EeH9xuLiESqY/N5XBB5JxzjtW3/wAIv8bv+igaP/4LU/8AjdAHrdFeSf8ACL/G7/ooGj/+C1P/AI3R/wAIv8bv+igaP/4LU/8AjdAHrdFeSf8ACL/G7/ooGj/+C1P/AI3R/wAIv8bv+igaP/4LU/8AjdAFj4Wf8lN+Jv8A2FYf/QWr1OvHPgdBqlr4v+IMHiC8jvdSTUIRc3ESbFkfa/IUAY/Kux+IvxI034faXE00b32q3h2WGnQ8yTv07dFzjn8Bk0AdVfX9pplm93qN1DaW8Yy8s8gRV+pPFeY6r+0H4Yiuns/DFlqfia7U4Cadbkpn/ePb3ANZmk/CvXviBeRa/wDGK+ldM+ZbaBbOUhtx6Pjv6459T2r1rSND0vQLFbPRNPtrC3XpHbxhB9Tjqfc0AeYJ8SfihqCiTTPhVNFGen2y9WNse4YKf0ok+JfxN05fM1X4VXEsQPP2K8ErfkoY169RQB5Rp/7Q/hJ2MHiS11Pw7dqpLQX9q3OB0BGf1ArzLR/hJcfGG61HxzEtv4fs7y9U2FkkICyxK2HZsdCcdcctntXYeLWPxr+JkXhHTMHwzoEom1a+QA+bL0ESt+a8f7R7CrGp/DTxJ8M7mXXfhHezT2QbzLrw7dOZElXv5ZPOf/Hvc9KAPa1UIoVAAqjAA7CvJPH/APycT8N/9y8/9Fmuv+H3xD0r4haIbvT91veQHZeWMp/eW7+hHcdcH+vFch4//wCTifhv/uXn/os0AeuUUUUAFFFFABRRRQAUUUUAFFFFABRRRQAVxHhf/krXjr6af/6INdvXLaDo97Z/EPxZqdxDstNQFn9mfI+fZEVbjtgnvQBX8T+ELu58W6Z4u8OPAmsafG1vJDcZEd5btyYywBKkHkNg89RVLxF4c1v4hLaaZr9lDpGhRXCXF5CLkTS3mw5WMbQAqZwSc5OOgrvqKAILm4t9O0+W5nZYre2iLuegVFGT+grj/hZazTeHLnxJfIVvPEl0+osrdUibiFPwjC/mau/EXSdT8QeFhomkodupXMVveyhwvlWpbMp565UFcD+9XTwwx28EcMKBI41CIqjAUAYAFAD6KKKACiiigAooooAKKKKACiiigAooooAKKKKACiiigAooooAKKKKAPJvhh/yWX4nf9flv/wCgvXrNeTfDD/ksvxO/6/Lf/wBBevWaAPHPj/450qD4caloWnahDcapdypbPbwvveNQwL7gOnAxz613Pw6k0a2+H+l2Oi6hbXdvp1pHFLJFICFYICxb0JOTzXT+TFkny0yep2jmlWNEBCIqg9QBjNAHz/8AGzxXoHizX/CHhy01a3msP7RW41G4jbdFEgIUbmHHQvXvVhe2moWMV1ps8VxayD93LCwZWA44I+lSiCIDAiQD02inKoRQqgKB0AFAC14j+0b/AK/wP/2GR/Na9urxH9o3/X+B/wDsMj+a0Ae3UUUUAFFFFABXiXwz/wCTkPiL9E/9CFe214l8M/8Ak5D4i/RP/QhQB7bRRRQAUUUUAFFFFABRRRQAUUUUAFFFFABXkY/5O5P/AGLX/tSvXK8jH/J3J/7Fr/2pQB65RRRQAUUUUAQX3/IOuf8Ark38jXmH7N3/ACRey/6+rj/0M16fff8AIOuf+uTfyNeYfs3f8kXsv+vq4/8AQzQB6nNNHbwPNO6xxRqWd2OAoHJJNfP3xM8XaJ4p+MXgnTYdVtpNG064+13dyH/cq+QQC3TogH/Aq+hCAQQRkHqDUfkQ4x5SY9NooAqXGuaVaaQuq3Oo20Vg6qy3LygRsG6EN05rw3QvFWi+IP2n9R1271S3i0/T7EWmnSzSbVmY4U7CeDyz/nXv5jQpsKKVH8JHFJ5EX/PJP++RQA+iiigDylv+TsI/+xZP/o0V6tXlLf8AJ2Ef/Ysn/wBGivVqACiiigAooooA8s+Fn/JTfib/ANhWH/0Fq7q58JaHeeK7XxJc6dFJq1pEYYbls5VT7dM9cHqMmuF+Fn/JTfib/wBhWH/0Fq9ToAKKKKACvMfjB43vtMt7Xwh4R/feJ9ePlQqh5tojw0hPbvg9sE9q9Gv5p7fTbmaztzdXEcTNFAGC+awGQuTwMnjNea/CfwTqkWoX/jrxzGf+El1djthcf8eUPaMA9DwPoAB60AdX8PfBFl4A8I22j2WJJv8AWXVxj5p5T95j7dh6ACunoooAxtP8JaHpXiTUNe0/T4oNR1FVW5mTjeB7dBnqT3xzXnnj/wD5OJ+G/wDuXn/os165Xkfj/wD5OJ+G/wDuXn/os0AeuUUUUAFFFFABRRRQAUUUUAFFFFABRRRQAUUUUAFFFFABRRRQAUUUUAFFFFABRRRQAUUUUAFFFFABRRRQAUUUUAFFFFABRRRQAUUUUAeBeHfiB4b8DfGX4if8JPqH2L7XeQ+T+6d921Wz90H1Fdp/w0B8N/8AoYP/ACVl/wDia7+TTLCaRpJrK2kdjlmaFST+OKb/AGPpv/QOtP8Avwv+FAHBf8NAfDf/AKGD/wAlZf8A4mj/AIaA+G//AEMH/krL/wDE13v9j6b/ANA60/78L/hR/Y+m/wDQOtP+/C/4UAcF/wANAfDf/oYP/JWX/wCJo/4aA+G//Qwf+Ssv/wATXe/2Ppv/AEDrT/vwv+FH9j6b/wBA60/78L/hQBwX/DQHw3/6GD/yVl/+JrzL4w/Efwt441DwfB4Z1L7ZLbasryr5LptUlQD8wFfRX9j6b/0DrT/vwv8AhSrpWnIwK2FqpByCIV4/SgC3RRRQAUUUUAFeJfDP/k5D4i/RP/QhXtteJfDP/k5D4i/RP/QhQB7bRRRQAUUUUAFFcj4g+KPhPwrdvb+IL+4sWV/LDSWE5R2xnCuEKt+Bra0LxHp/iOCSbS/tJjjIBa4tJYM5GRjzFXP4UAalFcp4g+JnhXwtqY0/Xr6e0uGYKgNjO6yEgEBWVCGPPQGt/StUttZ06O+svO8iXO3zoHibg4+64BH5UAXKKKKACiiigAryMf8AJ3J/7Fr/ANqV65XkY/5O5P8A2LX/ALUoA9cooooAKKKKAIL7/kHXP/XJv5Gvn34JfFrwZ4R+GFrpWv6v9lvY7iZ2i8iRsBmyDkKRX0SeetU/7I03/oHWn/fhf8KAOC/4aA+G/wD0MH/krL/8TR/w0B8N/wDoYP8AyVl/+Jrvf7H03/oHWn/fhf8ACj+x9N/6B1p/34X/AAoA4L/hoD4b/wDQwf8AkrL/APE0f8NAfDf/AKGD/wAlZf8A4mu9/sfTf+gdaf8Afhf8KP7H03/oHWn/AH4X/CgDgv8AhoD4b/8AQwf+Ssv/AMTR/wANAfDf/oYP/JWX/wCJrvf7H03/AKB1p/34X/Cj+x9N/wCgdaf9+F/woA8b8M+LtF8Z/tNjUfDl59rtU8PNEZPLZMMJVJGGAPcV7hVeCws7aTzLa0ghfGN0cYU4+oFWKACiiigAooooA8F8M/ETwx4G+KXxDj8T6j9je61ONoR5TvuCqwP3QfUV2P8Aw0B8N/8AoYP/ACVl/wDia7+TTLCaRpJbG2d2OWZoVJP44pv9j6b/ANA60/78L/hQBwX/AA0B8N/+hg/8lZf/AImj/hoD4b/9DB/5Ky//ABNd7/Y+m/8AQOtP+/C/4Uf2Ppv/AEDrT/vwv+FAHBf8NAfDf/oYP/JWX/4mj/hoD4b/APQwf+Ssv/xNd7/Y+m/9A60/78L/AIUf2Ppv/QOtP+/C/wCFAHBf8NAfDf8A6GD/AMlZf/iaP+GgPhv/ANDB/wCSsv8A8TXe/wBj6b/0DrT/AL8L/hR/Y+m/9A60/wC/C/4UAcF/w0B8N/8AoYP/ACVl/wDia4rUvHfh7xx+0F4Am8MX/wBsS1F0sx8pk2lozj7wHoa9y/sfTf8AoHWn/fhf8KfFptjBIskNlbxuv3WSJQR+OKALNFFFABRRRQAUUUUAFFFFABRRRQAUUUUAFFFFABRRRQAUUUUAFFFFABRRRQAUUUUAFFFFABRRRQAUUUUAFFFFABRRRQAUUUUAFFFFABRRRQAUUUUAFFFFABRRRQAUUUUAFFFFABXiXw0/5OR+Iv0T/wBCFe214l8NP+TkfiL9E/8AQhQB7bRRRQAUUUUAeJfF4L4p+MXgPweCWiSc390o/ug5Gfwjf869trxLwQV8WftM+Ltf+9BosC2EB6gN90/+gyfnXttAHKaxBFq3xJ0G0kCsulwTakykZw5xFH9PvSH/AIDXV1y3hnbf+KvEusA7h9pTToj/ALMC/Nj/ALaSSD8K6aWVIIXmmYJHGpZ2PRQBkmgB9FcP4W+IVz4n1izji0G5i0zULaW6tb7kqI0favmcYUvyQoJIGM9eO4oAKKKKACvIx/ydyf8AsWv/AGpXrleRj/k7k/8AYtf+1KAPXKKKKACiiigAooooAKKKKACiiigAooooAKKKKACiiigAooooAKKKKACiiigAooooAKKKKACiiigAooooAKKKKACiiigAooooAKKKKACiiigAooooAKKKKACiiigAooooAKKKKACiiigAooooAKKKKACiiigAooooAKKKKACiiigAooooAKKKKACiiigAooooAKKKKACiiigAooooAK8S+Gn/ACcj8Rfon/oQr22vEvhp/wAnI/EX6J/6EKAPbaKKKACiiigDxz4aJb+APiD4v0DxDLHZT6pffb9PuJ2CJdxNuOFY8FlzyOvJrvdV8YQPI2l+F3i1XWZBhI4W3x22f+WkzDhVHXHU9AK3b7TbHVIRDqVlb3kQOQlxEsi5+hFLZafZabB5OnWkFpFnPlwRBFz9AKAKvh/Ro9A0O30+JzK0YLSzMMGWRiWdz7sxJ/Gua+L9/eaV8L9avrO9S1WO0dHVoPMMpfCKoO4beW689a7evOPi+Rq+kaBoNo6yvquvW0DqhB+SMmSTP0Cc0AdF4B0S+8P+DtN06/u4p1t7SGONEt/L8rCDIJ3Hdz34rpaOlFABRRRQAV5GP+TuT/2LX/tSvXK8jH/J3J/7Fr/2pQB65RRRQAUUUUAFFFFABRRRQAUUUUAFFFFABRRRQAUUUUAFFFFABRRRQAUUUUAFFFFABRRRQAUUUUAFFFFABRRRQAUUUUAFFFFABRRRQAUUUUAFFFFABRRRQAUUUUAFFFFABRRRQAUUUUAFFFeV/HjUdXstE8OW+havdaTNqGtxWj3Fq5Vgjq47EZGcHHtQB6pRXkX/AAp7xh/0V7xB/wB8H/45R/wp7xh/0V7xB/3wf/jlAHrtFeRf8Ke8Yf8ARXvEH/fDf/HKP+FPeMP+iveIP++G/wDjlAHrtFeRf8Ke8Yf9Fe8Qf98H/wCOUf8ACnvGH/RXvEH/AHwf/jlAHrtFfOPjjSPGPw51zwq7fEXW9Wi1LVI4JYpXZFChlz/Gc5zjFfR1ABRRRQAUUUUAFFeC22keK/HfxW8a2Nn4+1jQ7XSbqNYYbdmdcOp4A3DGNv61u/8ACnvGH/RXvEH/AHw3/wAcoA9doryL/hT3jD/or3iD/vg//HKP+FPeMP8Aor3iD/vg/wDxygD12ivIv+FPeMP+iveIP++D/wDHKP8AhT3jD/or3iD/AL4P/wAcoA9doryL/hT3jD/or3iD/vhv/jlcX4/0nxl8ONR8NS/8LG1vVY9R1FIJIpHaMBQVz/Gc5zigD6RooooAKKKKACvEvhp/ycj8Rfon/oQr22vEvhp/ycj8Rfon/oQoA9tooooAKKKKACiiigArkvD3w30Pw3qxvrITyMks81vHM4Zbd5iDIy8ZJOAMsSQAAK62igAooooAKKKKACvIx/ydyf8AsWv/AGpXrleRj/k7k/8AYtf+1KAPXKKKKACiiigAooooAKKKKACiiigAooooAKKKKACiiigAooooAKKKKACiiigAooooAKKKKACiiigAooooAKKKKACiiigAooooAKKKKACiiigArn9I8Qzaj408RaLJCiRaT9m8uRSdz+bGWOfoRXQVxHhf/krXjr6af/6INAHW6lqljo9i15qt3DaW6kAyzOFXJ6DnufSqdh4o0bU74WdpfIbooXWCRWjdlHUhWAJHuK8/kvz4o/aUGk3AElh4Z003CRNypuZNvz46ZCtgHtWl8b7dovhvca7ZnydT0OaK9s7heGjYOAQD6FSQR3oA6Hxx4kuPCehwatFbpNax3kKXxbOYoHbazjHcEg89s10YIYAg5B6GsOEWvjfwBF9pQG11rTlLrjOFljz+m6sv4YapcX3guOw1Ny2p6LK+mXuTkl4jtDf8CXa2fegDsKKKKACiiigAooooAK8m+Pf/AB6+C/8AsZrb+TV6zXkvx7/49fBf/YzW38moA9aoorC8U+GV8SaeY11HUdPuI43EE1jeSQbXI4LBSA2Djg5oA3aK8O/Z8vbzUrjXLfxPquq3XiDR7poJIrq/kdBGeP8AVk4yGVucelex6zqdppGkz3moSNHAi4OzJdieAqgcliSAAOcmgC9RXnPg74d39rOdW8QeINeeWSfz7fTH1SVorVM5WNzn94wHXPHbnqfRqAPFP2hf+Qp4B/7Da/8AoSV7XXin7Qv/ACFPAP8A2G1/9CSva6ACiiigAooooA8m+GH/ACWX4nf9flv/AOgvXrNeTfDD/ksvxO/6/Lf/ANBevWaACimyxiWF42LKHUqSrFSM+hHQ14JpemXmtftCap4ZsvEPiFfD+kWayTxjVpiTKQvG8tkct0z/AAmgD32isuXQbV/Do0hrm+W3VAvnLeyCfAOc+bnfn3zXi/wd0288cX/iXUtT8QeIZdJtb82+nRDVp1G0EnJYMC3BT9aAPfK8R/aN/wBf4H/7DI/mte3DgV4j+0b/AK/wP/2GR/NaAPbqKKKACiiigArxL4af8nI/EX6J/wChCvba8S+Gn/JyPxF+if8AoQoA9tooooAKKKKACiiigAooooAKKKKACiiigAryMf8AJ3J/7Fr/ANqV65XkY/5O5P8A2LX/ALUoA9cooooAKKKKACiiigAooooAKKKKACiiigAooooAKKKKACiiigAooooAKKKKACiiigAooooAKKKKACiiigAooooAKKKKACiiigAooooAKKKKACuI8L/8la8dfTT/AP0Qa7euI8L/APJWvHX00/8A9EGgDjfBOV/an8ch+rWURH0xFXXfGsgfBfxJn/n1H/oa1ja5p48GfHO28Z3AZNG1ixNhfXG35LaYFfLZz2VtoXceAetT/Fy+Hifwyvgvw3NHe6prcsaEQsHW3gDhnmkI+6oAxz1J4zQB0HwqV0+EvhgS53f2bCefTaMfpWfa/wDEj+OV1aW+Db+IdMF5LGv/ACzngYJvI7BlYDPcrXZ6XYRaTo9np1v/AKq0gSBP91VCj+VcZ4D/AOKh8V+I/GMnzRTT/wBmac3b7PASGYezSFj/AMBFAHe0UUUAeb6r8bNH0jWLzTptA8RyyWk7wtJDp5ZHKnGVOeRxwaqf8L90P/oW/FH/AILD/jXqdFAHln/C/ND/AOhb8Uf+Cw/40f8AC/ND/wChb8Uf+Cw/416nRQB5Z/wvzQ/+hb8Uf+Cw/wCNcP8AEn4l6d41uPCNjY6VrFk8PiC2mL39mYkYcjAOeTz0r6Lryb49/wDHr4L/AOxmtv5NQB6zRRRQB4D4inh+F/7TVprkziDR/E1uUunY4RH4BJ+jBG/4Ea9W0m1n8SanF4h1aJ4rWEk6VZSDBQEY89x/fYHgH7oPqTjz74ix/wDCVftCeCfDQ2y2+mo2pXKHkDnIz/37H/fVe00AFFFFAHhv7SV0tjJ4Iu5Ed0t9W81ljXLMF2HAHc8Vvn4+aHn/AJFvxR/4LD/jWP8AtC/8hTwB/wBhtf8A0JK9roA8s/4X5of/AELfij/wWH/Gj/hfuh/9C34o/wDBYf8AGvU6KAPLP+F+6H/0Lfij/wAFh/xo/wCF+aH/ANC34o/8Fh/xr1OigDxb4KavDr/xJ+IeqW0FxbxXVzbusVzHskUYcYZex4r2mvJvhh/yWX4nf9flv/6C9es0AMnmS3t5JpThI1LsfQAZNeB/A/U9Vmm8U+LV8OX+qHXNRZknt5IFUKpJ2/vJFPBb0xxXo3xm1w+H/hDr11G+yWW3+zRn3kITj8GNTfCPQm8O/CfQLGVNkxtRPKvcPJ85B+m7H4UAZfj3x5q2i+ANavpPCupWOy1dEuJp7YrG7DapIWUt1YdAaf8AAnQzofwd0ZJEKy3iteSZGCTIcjP/AAHbXP8A7R11PdeGdC8L2Rzca7qkcW0dSq//AGTJXrtjaR2GnW1nAMRW8SxIB2CgAfyoAnrwv9pi4W0h8G3LqzrDqvmFUGWIG04A7nivdK8R/aN/1/gf/sMj+a0AbZ+Pmhg/8i34o/8ABYf8aP8Ahfuh/wDQt+KP/BYf8a9TooA8s/4X5of/AELfij/wWH/Gj/hfmh/9C34o/wDBYf8AGvU6KAPLP+F+aH/0Lnij/wAFh/xrlfgxq8WvfHXx3qltDcQRXUaOsVzHskUbhwy9jxXvteJfDP8A5OR+Iv0X/wBCFAHttFFFABRRRQAUUUUAFFFFABRRRQAUUUUAFeD+LPFVr4P/AGn/AO0r6zvryI+HxF5djB5smTITnbnpx1r3ivIx/wAncn/sWv8A2pQBZ/4X5of/AELnij/wWH/Gj/hfmh/9C34o/wDBYf8AGvU6KAPLP+F+aH/0Lnij/wAFh/xo/wCF+aH/ANC54o/8Fh/xr1OigDyz/hfmh/8AQueKP/BYf8aP+F+aH/0Lnij/AMFh/wAa9TooA8s/4X5of/QueKP/AAWH/Gj/AIX5of8A0Lnij/wWH/GvU6KAPO9D+M2ka9rtppdvoXiGCW7kEay3OnlI1PqzZ4FeiUUUAFFFFABRRRQAUUUUAFFFFABRRRQAUUUUAFFFFABRRRQAUUUUAFFFFABRRRQAUUUUAFFFFABRRRQAUUUUAFcR4X/5K146+mn/APog129QRWVtBdz3UNvGk9zt86VVAaTaMLk98DgUATOiuhV1DKwwQRkEVDa2NpYhhZWsNuGOWEUYTP1xU9FAHLfEfXZ9B8D3klhzqN4VsbFQeTPKdiflnd+FavhnQ4PDPhfTtFteYrG3SENj7xA5Y+5OT+NXbmytbxoGu7eKc28omhMiBvLcAgMM9CMnn3qegAooooAKKKKACiiigAryb49/8evgv/sZrb+TV6zXk3x7/wCPXwX/ANjNbfyagD1mq2o2st9p8ttBeTWMkgwtxbhS8fuNwI/MGrNFAHncPwggt/Fk3iaLxZr41meLyZLpngYlOPl2mLAHyjoK9CjUpGqli5UAFm6t7mnUUAFFFFAHin7Qv/IU8A/9htf/AEJK9rrxT9oX/kKeAf8AsNr/AOhJXtdABRRRQAUUUUAeTfDD/ksvxO/6/Lf/ANBevWa8m+GH/JZfid/1+W//AKC9es0AcH4x+Fdv46je317xHrT2Rn8+OzieFI425Ax+7yQMnGSa6bRNEn0fTXtJdZvtRzxHLdCLdEAMADYij35BrWooA861T4Pwa1r2n61qfizX59Q007rSUvABCc5yFEWP0rvNOtJbHT4rae9nvpIxhri4C75Oep2gD8gKs0UAFeI/tG/6/wAD/wDYZH81r26vEf2jf9f4H/7DI/mtAHt1FFFABRRRQAV4l8M/+TkfiL9E/wDQhXtteJfDP/k5H4i+uF/9CFAHttFFFABRRRQAUUUUAFFFFABRRRQAUUUUAFeRj/k7k/8AYtf+1K9cryMf8ncn/sWv/alAHrlFFFABRRRQAUUUUAFFFFABRRRQAUUUUAFFFFABRRRQAUUUUAFFFFABRRRQAUUUUAFFFFABRRRQAUUUUAFFFFABRRRQAUUUUAFFFFABRRRQAUUUUAFFFFABRRRQAUUUUAFFFFABRRRQAVyHxF+H1t8RNIsrG61G6042d2t3HNa43hwrAcnp97OfauvooA8hPwKvj1+Jniz/AMDD/jR/wom9/wCil+LP/Aw/4169RQB5D/wom9/6KX4s/wDAw/40f8KJvf8Aopfiz/wMP+NevUUAeQ/8KJvf+il+LP8AwMP+NH/Cir4f81L8Wf8AgYf8a9eooA8eH7P0c2pafd6p438Qan9guEuIo7yUSKGUg984zjHFew0UUAFFFFABRRRQB5VrHwOTUvFmq67YeMdc0iXVJRLNFYyiNSQMAcdce/rVb/hRV9/0UvxZ/wCBh/xr16igDyH/AIUVff8ARS/Fn/gYf8aP+FFX3/RS/Fn/AIGH/GvXqKAPIf8AhRV9/wBFL8Wf+Bh/xo/4UVff9FL8Wf8AgYf8a9eooA8h/wCFFX3/AEUvxZ/4GH/Gon/Z8jur6yuNV8ceINSFlOs8Ud5KJFDAg8ZzjOO1ex0UAFFFFABRRRQAV8+2s/izwP8AGzxjrdp4G1bW7PU3CQvbqUUgYO4HacivoKigDyf/AIW54w/6JHr3/f3/AOwo/wCFueMP+iR69/39/wDsK9YooA8n/wCFueMP+iR69/39/wDsKP8AhbnjD/okevf9/f8A7CvWKKAPJ/8AhbnjD/okevf9/f8A7Cj/AIW54w/6JHr3/f3/AOwr1iigDyf/AIW54w/6JHr3/f3/AOwo/wCFueMP+iR69/39/wDsK9YooA8n/wCFueMP+iR69/39/wDsKP8AhbnjD/okevf9/f8A7CvWKKAPJ/8AhbnjD/okevf9/f8A7Cj/AIW54w/6JHr3/f3/AOwr1iigDyf/AIW54w/6JJr/AP39/wDsKzPBz+JPEnx/bxRq3hHUtAs/7Fa0H2tSQXDgj5sDrk8e1e10UAFFFFABRRRQAUUUUAFFFFABRRRQAUUUUAFFFFABRRRQAUUUUAFFFFABRRRQAUUUUAFFFFABRRRQAUUUUAFFFFABRRRQAUUUUAFFFFABRRRQAUUUUAFFFFABRRRQAUUUUAFFFFABRRRQAUUUUAFFFFABRRRQAUUUUAFFFFABRRRQAUUUUAFFFFABRRRQAUUUUAFFFFABRRRQAUUUUAFFFFABRRRQAUUUUAFFFFABRRRQAUUUUAFFFFABRRRQAUUUUAFFFFABRRRQAUUUUAFFFFABRRRQAUUUUAFFFFABRRRQAUUUUAFFFFABRRRQAUUUUAFFFFABRRRQAUUUUAFFFFAH/9k=)"
      ],
      "metadata": {
        "id": "V5LdgVFM40lv"
      }
    },
    {
      "cell_type": "markdown",
      "source": [
        "Для функции f(x) = 0"
      ],
      "metadata": {
        "id": "SlI6DhU-7kUN"
      }
    },
    {
      "cell_type": "code",
      "source": [
        "q = QuantumRegister(2)\n",
        "c = ClassicalRegister(1)\n",
        "circuit = QuantumCircuit(q,c)\n",
        "circuit.h(q[0])\n",
        "circuit.y(q[1])\n",
        "circuit.h(q[1])\n",
        "circuit.h(q[0])\n",
        "print(circuit)"
      ],
      "metadata": {
        "id": "gsLztu020qpl",
        "outputId": "f3d01700-016f-481a-abbf-d276dcc4cfea",
        "colab": {
          "base_uri": "https://localhost:8080/"
        }
      },
      "execution_count": 20,
      "outputs": [
        {
          "output_type": "stream",
          "name": "stdout",
          "text": [
            "       ┌───┐┌───┐\n",
            "q35_0: ┤ H ├┤ H ├\n",
            "       ├───┤├───┤\n",
            "q35_1: ┤ Y ├┤ H ├\n",
            "       └───┘└───┘\n",
            "   c5: ══════════\n",
            "                 \n"
          ]
        }
      ]
    },
    {
      "cell_type": "code",
      "source": [
        "circuit.measure(q[0],c)\n",
        "result = execute(circuit,backend,shots=1000).result()\n",
        "print(result.get_counts())"
      ],
      "metadata": {
        "id": "JidfnvqH1e_E",
        "outputId": "7b9b8e11-2814-4572-8143-e918bba6e43b",
        "colab": {
          "base_uri": "https://localhost:8080/"
        }
      },
      "execution_count": 22,
      "outputs": [
        {
          "output_type": "stream",
          "name": "stdout",
          "text": [
            "{'0': 1000}\n"
          ]
        }
      ]
    },
    {
      "cell_type": "markdown",
      "source": [
        "Для функции f(x) = 1\n",
        "\n",
        "\n",
        " "
      ],
      "metadata": {
        "id": "lGNW9KBF48bE"
      }
    },
    {
      "cell_type": "code",
      "source": [
        "q = QuantumRegister(2)\n",
        "c = ClassicalRegister(1)\n",
        "circuit = QuantumCircuit(q,c)\n",
        "circuit.h(q[0])\n",
        "circuit.y(q[1])\n",
        "circuit.h(q[1])\n",
        "circuit.x(q[1])\n",
        "circuit.h(q[0])\n",
        "print(circuit)"
      ],
      "metadata": {
        "id": "DMgLxJxf4-cB",
        "outputId": "a52753f0-5f46-42c3-c58c-903c4851c8a7",
        "colab": {
          "base_uri": "https://localhost:8080/"
        }
      },
      "execution_count": 24,
      "outputs": [
        {
          "output_type": "stream",
          "name": "stdout",
          "text": [
            "       ┌───┐┌───┐     \n",
            "q43_0: ┤ H ├┤ H ├─────\n",
            "       ├───┤├───┤┌───┐\n",
            "q43_1: ┤ Y ├┤ H ├┤ X ├\n",
            "       └───┘└───┘└───┘\n",
            "   c7: ═══════════════\n",
            "                      \n"
          ]
        }
      ]
    },
    {
      "cell_type": "code",
      "source": [
        "circuit.measure(q[0],c)\n",
        "result = execute(circuit,backend,shots=1000).result()\n",
        "print(result.get_counts())"
      ],
      "metadata": {
        "id": "KNBX4Zvc59ZR",
        "outputId": "5ffcf813-9a49-4092-fddb-e209a7bff026",
        "colab": {
          "base_uri": "https://localhost:8080/"
        }
      },
      "execution_count": 25,
      "outputs": [
        {
          "output_type": "stream",
          "name": "stdout",
          "text": [
            "{'0': 1000}\n"
          ]
        }
      ]
    },
    {
      "cell_type": "markdown",
      "source": [
        "Для функции f(x) = x"
      ],
      "metadata": {
        "id": "p60WGVEF6ILp"
      }
    },
    {
      "cell_type": "code",
      "source": [
        "q = QuantumRegister(2)\n",
        "c = ClassicalRegister(1)\n",
        "circuit = QuantumCircuit(q,c)\n",
        "circuit.h(q[0])\n",
        "circuit.y(q[1])\n",
        "circuit.h(q[1])\n",
        "circuit.cx(q[0],q[1])\n",
        "circuit.h(q[0])\n",
        "print(circuit)"
      ],
      "metadata": {
        "id": "EY9z9UGZ6PIJ",
        "outputId": "35b99612-9832-44fe-eed7-a13679c4f347",
        "colab": {
          "base_uri": "https://localhost:8080/"
        }
      },
      "execution_count": 26,
      "outputs": [
        {
          "output_type": "stream",
          "name": "stdout",
          "text": [
            "       ┌───┐          ┌───┐\n",
            "q48_0: ┤ H ├───────■──┤ H ├\n",
            "       ├───┤┌───┐┌─┴─┐└───┘\n",
            "q48_1: ┤ Y ├┤ H ├┤ X ├─────\n",
            "       └───┘└───┘└───┘     \n",
            "   c8: ════════════════════\n",
            "                           \n"
          ]
        }
      ]
    },
    {
      "cell_type": "code",
      "source": [
        "circuit.measure(q[0],c)\n",
        "result = execute(circuit,backend,shots=1000).result()\n",
        "print(result.get_counts())"
      ],
      "metadata": {
        "id": "eTkW6eVL6c4r",
        "outputId": "915d29dd-79d7-48e8-d8c8-a190f2dab46e",
        "colab": {
          "base_uri": "https://localhost:8080/"
        }
      },
      "execution_count": 27,
      "outputs": [
        {
          "output_type": "stream",
          "name": "stdout",
          "text": [
            "{'1': 1000}\n"
          ]
        }
      ]
    },
    {
      "cell_type": "markdown",
      "source": [
        "Для f(x) = NOT x"
      ],
      "metadata": {
        "id": "JxQxHfHK6hGY"
      }
    },
    {
      "cell_type": "code",
      "source": [
        "q = QuantumRegister(2)\n",
        "c = ClassicalRegister(1)\n",
        "circuit = QuantumCircuit(q,c)\n",
        "circuit.h(q[0])\n",
        "circuit.y(q[1])\n",
        "circuit.h(q[1])\n",
        "circuit.x(q[0])\n",
        "circuit.cx(q[0],q[1])\n",
        "circuit.x(q[0])\n",
        "circuit.h(q[0])\n",
        "print(circuit)"
      ],
      "metadata": {
        "id": "ec5HdwcO6mFp",
        "outputId": "abc49871-ac0f-493f-811c-94df0e0eb024",
        "colab": {
          "base_uri": "https://localhost:8080/"
        }
      },
      "execution_count": 28,
      "outputs": [
        {
          "output_type": "stream",
          "name": "stdout",
          "text": [
            "       ┌───┐┌───┐     ┌───┐┌───┐\n",
            "q53_0: ┤ H ├┤ X ├──■──┤ X ├┤ H ├\n",
            "       ├───┤├───┤┌─┴─┐└───┘└───┘\n",
            "q53_1: ┤ Y ├┤ H ├┤ X ├──────────\n",
            "       └───┘└───┘└───┘          \n",
            "   c9: ═════════════════════════\n",
            "                                \n"
          ]
        }
      ]
    },
    {
      "cell_type": "code",
      "source": [
        "circuit.measure(q[0],c)\n",
        "result = execute(circuit,backend,shots=1000).result()\n",
        "print(result.get_counts())"
      ],
      "metadata": {
        "id": "0Awe6a4F6ys0",
        "outputId": "c6ff7f71-ef5e-4f39-fb6e-2c29e3c2829b",
        "colab": {
          "base_uri": "https://localhost:8080/"
        }
      },
      "execution_count": 29,
      "outputs": [
        {
          "output_type": "stream",
          "name": "stdout",
          "text": [
            "{'1': 1000}\n"
          ]
        }
      ]
    },
    {
      "cell_type": "markdown",
      "source": [
        "2.![Снимок2.JPG](data:image/jpeg;base64,/9j/4AAQSkZJRgABAQEAkACQAAD/4RDSRXhpZgAATU0AKgAAAAgABAE7AAIAAAAERGVuAIdpAAQAAAABAAAISpydAAEAAAAIAAAQwuocAAcAAAgMAAAAPgAAAAAc6gAAAAgAAAAAAAAAAAAAAAAAAAAAAAAAAAAAAAAAAAAAAAAAAAAAAAAAAAAAAAAAAAAAAAAAAAAAAAAAAAAAAAAAAAAAAAAAAAAAAAAAAAAAAAAAAAAAAAAAAAAAAAAAAAAAAAAAAAAAAAAAAAAAAAAAAAAAAAAAAAAAAAAAAAAAAAAAAAAAAAAAAAAAAAAAAAAAAAAAAAAAAAAAAAAAAAAAAAAAAAAAAAAAAAAAAAAAAAAAAAAAAAAAAAAAAAAAAAAAAAAAAAAAAAAAAAAAAAAAAAAAAAAAAAAAAAAAAAAAAAAAAAAAAAAAAAAAAAAAAAAAAAAAAAAAAAAAAAAAAAAAAAAAAAAAAAAAAAAAAAAAAAAAAAAAAAAAAAAAAAAAAAAAAAAAAAAAAAAAAAAAAAAAAAAAAAAAAAAAAAAAAAAAAAAAAAAAAAAAAAAAAAAAAAAAAAAAAAAAAAAAAAAAAAAAAAAAAAAAAAAAAAAAAAAAAAAAAAAAAAAAAAAAAAAAAAAAAAAAAAAAAAAAAAAAAAAAAAAAAAAAAAAAAAAAAAAAAAAAAAAAAAAAAAAAAAAAAAAAAAAAAAAAAAAAAAAAAAAAAAAAAAAAAAAAAAAAAAAAAAAAAAAAAAAAAAAAAAAAAAAAAAAAAAAAAAAAAAAAAAAAAAAAAAAAAAAAAAAAAAAAAAAAAAAAAAAAAAAAAAAAAAAAAAAAAAAAAAAAAAAAAAAAAAAAAAAAAAAAAAAAAAAAAAAAAAAAAAAAAAAAAAAAAAAAAAAAAAAAAAAAAAAAAAAAAAAAAAAAAAAAAAAAAAAAAAAAAAAAAAAAAAAAAAAAAAAAAAAAAAAAAAAAAAAAAAAAAAAAAAAAAAAAAAAAAAAAAAAAAAAAAAAAAAAAAAAAAAAAAAAAAAAAAAAAAAAAAAAAAAAAAAAAAAAAAAAAAAAAAAAAAAAAAAAAAAAAAAAAAAAAAAAAAAAAAAAAAAAAAAAAAAAAAAAAAAAAAAAAAAAAAAAAAAAAAAAAAAAAAAAAAAAAAAAAAAAAAAAAAAAAAAAAAAAAAAAAAAAAAAAAAAAAAAAAAAAAAAAAAAAAAAAAAAAAAAAAAAAAAAAAAAAAAAAAAAAAAAAAAAAAAAAAAAAAAAAAAAAAAAAAAAAAAAAAAAAAAAAAAAAAAAAAAAAAAAAAAAAAAAAAAAAAAAAAAAAAAAAAAAAAAAAAAAAAAAAAAAAAAAAAAAAAAAAAAAAAAAAAAAAAAAAAAAAAAAAAAAAAAAAAAAAAAAAAAAAAAAAAAAAAAAAAAAAAAAAAAAAAAAAAAAAAAAAAAAAAAAAAAAAAAAAAAAAAAAAAAAAAAAAAAAAAAAAAAAAAAAAAAAAAAAAAAAAAAAAAAAAAAAAAAAAAAAAAAAAAAAAAAAAAAAAAAAAAAAAAAAAAAAAAAAAAAAAAAAAAAAAAAAAAAAAAAAAAAAAAAAAAAAAAAAAAAAAAAAAAAAAAAAAAAAAAAAAAAAAAAAAAAAAAAAAAAAAAAAAAAAAAAAAAAAAAAAAAAAAAAAAAAAAAAAAAAAAAAAAAAAAAAAAAAAAAAAAAAAAAAAAAAAAAAAAAAAAAAAAAAAAAAAAAAAAAAAAAAAAAAAAAAAAAAAAAAAAAAAAAAAAAAAAAAAAAAAAAAAAAAAAAAAAAAAAAAAAAAAAAAAAAAAAAAAAAAAAAAAAAAAAAAAAAAAAAAAAAAAAAAAAAAAAAAAAAAAAAAAAAAAAAAAAAAAAAAAAAAAAAAAAAAAAAAAAAAAAAAAAAAAAAAAAAAAAAAAAAAAAAAAAAAAAAAAAAAAAAAAAAAAAAAAAAAAAAAAAAAAAAAAAAAAAAAAAAAAAAAAAAAAAAAAAAAAAAAAAAAAAAAAAAAAAAAAAAAAAAAAAAAAAAAAAAAAAAAAAAAAAAAAAAAAAAAAAAAAAAAAAAAAAAAAAAAAAAAAAAAAAAAAAAAAAAAAAAAAAAAAAAAAAAAAAAAAAAAAAAAAAAAAAAAAAAAAAAAAAAAAAAAAAAAAAAAAAAAAAAAAAAAAAAAAAAAAAAAAAAAAAAAAAAAAAAAAAAAAAAAAAAAAAAAAAAAAAAAAAAAAAAAAAAAAAAAAAAAAAAAAAAAAAAAAAAAAAAAAAAAAAAAAAAAAAAAAAAAAAAAAAAAAAAAAAAAAAAAAAAAAAAAAAAAAAAAAAAAAAAAAAAAAAAAAAAAAAAAAAAAAAAAAAAAAAAAAAAAAAAAAAAAAAAAAAAAAAAAAAAAAAAAAAAAAAAAAAAAAAAAAAAAAAAAAAAAAAAAAAAAAAAAAAAAAAAAAAAAAAAAAAAAAAAAAAAAAAAAAAAAAAAAAAAAAAAAAAAAAAAAAAAAAAAAAAAAAAAAAAAAAAAAAAAAAAAAAAAAAAAAAAAAAAAAAAAAAAAAAAAAAAAAAAAAAAAAAAAAAAAAAAAAAAAAAAAAAAAAAAAAAAAAAAAAAAAAAAAAAAAAAAAAAAAAAAAAAAAAAAAAAAAAAAAAAAAAAAAAAAAAAAAAAAAAAAAAAAAAAAAAAAAAAAAAAAAAAAAAAAAAAAAAAAAAAAAAAAAAAAAAAAAAAAAAAAAAAAAAAAAAAAAAAAAAAAAAAAAAAAAAAAAAAAAAAAAAAAAAAAAAAAAAAAAAAAAAAAAAAAAAAAAAAAAAAAAAAAAAAAAAAAAAAAAAAAAAAAAAAAAAAAAAAAAAAAAAAAAAAAAAAAAAAAAAAAAAAAAAAAAAAAAAAAAAAAAAAAFkAMAAgAAABQAABCYkAQAAgAAABQAABCskpEAAgAAAAM4NgAAkpIAAgAAAAM4NgAA6hwABwAACAwAAAiMAAAAABzqAAAACAAAAAAAAAAAAAAAAAAAAAAAAAAAAAAAAAAAAAAAAAAAAAAAAAAAAAAAAAAAAAAAAAAAAAAAAAAAAAAAAAAAAAAAAAAAAAAAAAAAAAAAAAAAAAAAAAAAAAAAAAAAAAAAAAAAAAAAAAAAAAAAAAAAAAAAAAAAAAAAAAAAAAAAAAAAAAAAAAAAAAAAAAAAAAAAAAAAAAAAAAAAAAAAAAAAAAAAAAAAAAAAAAAAAAAAAAAAAAAAAAAAAAAAAAAAAAAAAAAAAAAAAAAAAAAAAAAAAAAAAAAAAAAAAAAAAAAAAAAAAAAAAAAAAAAAAAAAAAAAAAAAAAAAAAAAAAAAAAAAAAAAAAAAAAAAAAAAAAAAAAAAAAAAAAAAAAAAAAAAAAAAAAAAAAAAAAAAAAAAAAAAAAAAAAAAAAAAAAAAAAAAAAAAAAAAAAAAAAAAAAAAAAAAAAAAAAAAAAAAAAAAAAAAAAAAAAAAAAAAAAAAAAAAAAAAAAAAAAAAAAAAAAAAAAAAAAAAAAAAAAAAAAAAAAAAAAAAAAAAAAAAAAAAAAAAAAAAAAAAAAAAAAAAAAAAAAAAAAAAAAAAAAAAAAAAAAAAAAAAAAAAAAAAAAAAAAAAAAAAAAAAAAAAAAAAAAAAAAAAAAAAAAAAAAAAAAAAAAAAAAAAAAAAAAAAAAAAAAAAAAAAAAAAAAAAAAAAAAAAAAAAAAAAAAAAAAAAAAAAAAAAAAAAAAAAAAAAAAAAAAAAAAAAAAAAAAAAAAAAAAAAAAAAAAAAAAAAAAAAAAAAAAAAAAAAAAAAAAAAAAAAAAAAAAAAAAAAAAAAAAAAAAAAAAAAAAAAAAAAAAAAAAAAAAAAAAAAAAAAAAAAAAAAAAAAAAAAAAAAAAAAAAAAAAAAAAAAAAAAAAAAAAAAAAAAAAAAAAAAAAAAAAAAAAAAAAAAAAAAAAAAAAAAAAAAAAAAAAAAAAAAAAAAAAAAAAAAAAAAAAAAAAAAAAAAAAAAAAAAAAAAAAAAAAAAAAAAAAAAAAAAAAAAAAAAAAAAAAAAAAAAAAAAAAAAAAAAAAAAAAAAAAAAAAAAAAAAAAAAAAAAAAAAAAAAAAAAAAAAAAAAAAAAAAAAAAAAAAAAAAAAAAAAAAAAAAAAAAAAAAAAAAAAAAAAAAAAAAAAAAAAAAAAAAAAAAAAAAAAAAAAAAAAAAAAAAAAAAAAAAAAAAAAAAAAAAAAAAAAAAAAAAAAAAAAAAAAAAAAAAAAAAAAAAAAAAAAAAAAAAAAAAAAAAAAAAAAAAAAAAAAAAAAAAAAAAAAAAAAAAAAAAAAAAAAAAAAAAAAAAAAAAAAAAAAAAAAAAAAAAAAAAAAAAAAAAAAAAAAAAAAAAAAAAAAAAAAAAAAAAAAAAAAAAAAAAAAAAAAAAAAAAAAAAAAAAAAAAAAAAAAAAAAAAAAAAAAAAAAAAAAAAAAAAAAAAAAAAAAAAAAAAAAAAAAAAAAAAAAAAAAAAAAAAAAAAAAAAAAAAAAAAAAAAAAAAAAAAAAAAAAAAAAAAAAAAAAAAAAAAAAAAAAAAAAAAAAAAAAAAAAAAAAAAAAAAAAAAAAAAAAAAAAAAAAAAAAAAAAAAAAAAAAAAAAAAAAAAAAAAAAAAAAAAAAAAAAAAAAAAAAAAAAAAAAAAAAAAAAAAAAAAAAAAAAAAAAAAAAAAAAAAAAAAAAAAAAAAAAAAAAAAAAAAAAAAAAAAAAAAAAAAAAAAAAAAAAAAAAAAAAAAAAAAAAAAAAAAAAAAAAAAAAAAAAAAAAAAAAAAAAAAAAAAAAAAAAAAAAAAAAAAAAAAAAAAAAAAAAAAAAAAAAAAAAAAAAAAAAAAAAAAAAAAAAAAAAAAAAAAAAAAAAAAAAAAAAAAAAAAAAAAAAAAAAAAAAAAAAAAAAAAAAAAAAAAAAAAAAAAAAAAAAAAAAAAAAAAAAAAAAAAAAAAAAAAAAAAAAAAAAAAAAAAAAAAAAAAAAAAAAAAAAAAAAAAAAAAAAAAAAAAAAAAAAAAAAAAAAAAAAAAAAAAAAAAAAAAAAAAAAAAAAAAAAAAAAAAAAAAAAAAAAAAAAAAAAAAAAAAAAAAAAAAAAAAAAAAAAAAAAAAAAAAAAAAAAAAAAAAAAAAAAAAAAAAAAAAAAAAAAAAAAAAAAAAAAAAAAAAAAAAAAAAAAAAAAAAAAAAAAAAAAAAAAAAAAAAAAAAAAAAAAAAAAAAAAAAAAAAAAAAAAAAAAAAAAAAAAAAAAAAAAAAAAAAAAAAAAAAAAAAAAAAAAAAAAAAAAAAAAAAAAAAAAAAAAAAAAAAAAAAAAAAAAAAAAAAAAAAAAAAAAAAAAAAAAAAAAAAAAAAAAAAAAAAAAAAAAAAAAAAAAAAAAAAAAAAAAAAAAAAAAAAAAAAAAAAAAAAAAAAAAAAAAAAAAAAAAAAAAAAAAAAAAAAAAAAAAAAAAAAAAAAAAAAAAAAAAAAAAAAAAAAAAAAAAAAAAAAAAAAAAAAAAAAAAAAAAAAAAAAAAAAAAAAAAAAAAAAAAAAAAAAAAAAAAAAAAAAAAAAAAAAAAAAAAAAAAAAAAAAAAAAAAAAAAAAAAAAAAAAAAAAAAAAAAAAAAAAAAAAAAAAAAAAAAAAAAAAAAAAAAAAAAAAAAAAAAAAAAAAAAAAAAAAAAAAAAAAAAAAAAAAAAAAAAAAAAAAAAAAAAAAAAAAAAAAAAAAAAAAAAAAAAAAAAAAAAAAAAAAAAAAAAAAAAAAAAMjAyMjoxMToyNCAxNjo1ODozNwAyMDIyOjExOjI0IDE2OjU4OjM3AAAARABlAG4AAAD/4QsWaHR0cDovL25zLmFkb2JlLmNvbS94YXAvMS4wLwA8P3hwYWNrZXQgYmVnaW49J++7vycgaWQ9J1c1TTBNcENlaGlIenJlU3pOVGN6a2M5ZCc/Pg0KPHg6eG1wbWV0YSB4bWxuczp4PSJhZG9iZTpuczptZXRhLyI+PHJkZjpSREYgeG1sbnM6cmRmPSJodHRwOi8vd3d3LnczLm9yZy8xOTk5LzAyLzIyLXJkZi1zeW50YXgtbnMjIj48cmRmOkRlc2NyaXB0aW9uIHJkZjphYm91dD0idXVpZDpmYWY1YmRkNS1iYTNkLTExZGEtYWQzMS1kMzNkNzUxODJmMWIiIHhtbG5zOmRjPSJodHRwOi8vcHVybC5vcmcvZGMvZWxlbWVudHMvMS4xLyIvPjxyZGY6RGVzY3JpcHRpb24gcmRmOmFib3V0PSJ1dWlkOmZhZjViZGQ1LWJhM2QtMTFkYS1hZDMxLWQzM2Q3NTE4MmYxYiIgeG1sbnM6eG1wPSJodHRwOi8vbnMuYWRvYmUuY29tL3hhcC8xLjAvIj48eG1wOkNyZWF0ZURhdGU+MjAyMi0xMS0yNFQxNjo1ODozNy44NTc8L3htcDpDcmVhdGVEYXRlPjwvcmRmOkRlc2NyaXB0aW9uPjxyZGY6RGVzY3JpcHRpb24gcmRmOmFib3V0PSJ1dWlkOmZhZjViZGQ1LWJhM2QtMTFkYS1hZDMxLWQzM2Q3NTE4MmYxYiIgeG1sbnM6ZGM9Imh0dHA6Ly9wdXJsLm9yZy9kYy9lbGVtZW50cy8xLjEvIj48ZGM6Y3JlYXRvcj48cmRmOlNlcSB4bWxuczpyZGY9Imh0dHA6Ly93d3cudzMub3JnLzE5OTkvMDIvMjItcmRmLXN5bnRheC1ucyMiPjxyZGY6bGk+RGVuPC9yZGY6bGk+PC9yZGY6U2VxPg0KCQkJPC9kYzpjcmVhdG9yPjwvcmRmOkRlc2NyaXB0aW9uPjwvcmRmOlJERj48L3g6eG1wbWV0YT4NCiAgICAgICAgICAgICAgICAgICAgICAgICAgICAgICAgICAgICAgICAgICAgICAgICAgICAgICAgICAgICAgICAgICAgICAgICAgICAgICAgICAgICAgICAgICAgICAgICAgICAKICAgICAgICAgICAgICAgICAgICAgICAgICAgICAgICAgICAgICAgICAgICAgICAgICAgICAgICAgICAgICAgICAgICAgICAgICAgICAgICAgICAgICAgICAgICAgICAgICAgIAogICAgICAgICAgICAgICAgICAgICAgICAgICAgICAgICAgICAgICAgICAgICAgICAgICAgICAgICAgICAgICAgICAgICAgICAgICAgICAgICAgICAgICAgICAgICAgICAgICAgCiAgICAgICAgICAgICAgICAgICAgICAgICAgICAgICAgICAgICAgICAgICAgICAgICAgICAgICAgICAgICAgICAgICAgICAgICAgICAgICAgICAgICAgICAgICAgICAgICAgICAKICAgICAgICAgICAgICAgICAgICAgICAgICAgICAgICAgICAgICAgICAgICAgICAgICAgICAgICAgICAgICAgICAgICAgICAgICAgICAgICAgICAgICAgICAgICAgICAgICAgIAogICAgICAgICAgICAgICAgICAgICAgICAgICAgICAgICAgICAgICAgICAgICAgICAgICAgICAgICAgICAgICAgICAgICAgICAgICAgICAgICAgICAgICAgICAgICAgICAgICAgCiAgICAgICAgICAgICAgICAgICAgICAgICAgICAgICAgICAgICAgICAgICAgICAgICAgICAgICAgICAgICAgICAgICAgICAgICAgICAgICAgICAgICAgICAgICAgICAgICAgICAKICAgICAgICAgICAgICAgICAgICAgICAgICAgICAgICAgICAgICAgICAgICAgICAgICAgICAgICAgICAgICAgICAgICAgICAgICAgICAgICAgICAgICAgICAgICAgICAgICAgIAogICAgICAgICAgICAgICAgICAgICAgICAgICAgICAgICAgICAgICAgICAgICAgICAgICAgICAgICAgICAgICAgICAgICAgICAgICAgICAgICAgICAgICAgICAgICAgICAgICAgCiAgICAgICAgICAgICAgICAgICAgICAgICAgICAgICAgICAgICAgICAgICAgICAgICAgICAgICAgICAgICAgICAgICAgICAgICAgICAgICAgICAgICAgICAgICAgICAgICAgICAKICAgICAgICAgICAgICAgICAgICAgICAgICAgICAgICAgICAgICAgICAgICAgICAgICAgICAgICAgICAgICAgICAgICAgICAgICAgICAgICAgICAgICAgICAgICAgICAgICAgIAogICAgICAgICAgICAgICAgICAgICAgICAgICAgICAgICAgICAgICAgICAgICAgICAgICAgICAgICAgICAgICAgICAgICAgICAgICAgICAgICAgICAgICAgICAgICAgICAgICAgCiAgICAgICAgICAgICAgICAgICAgICAgICAgICAgICAgICAgICAgICAgICAgICAgICAgICAgICAgICAgICAgICAgICAgICAgICAgICAgICAgICAgICAgICAgICAgICAgICAgICAKICAgICAgICAgICAgICAgICAgICAgICAgICAgICAgICAgICAgICAgICAgICAgICAgICAgICAgICAgICAgICAgICAgICAgICAgICAgICAgICAgICAgICAgICAgICAgICAgICAgIAogICAgICAgICAgICAgICAgICAgICAgICAgICAgICAgICAgICAgICAgICAgICAgICAgICAgICAgICAgICAgICAgICAgICAgICAgICAgICAgICAgICAgICAgICAgICAgICAgICAgCiAgICAgICAgICAgICAgICAgICAgICAgICAgICAgICAgICAgICAgICAgICAgICAgICAgICAgICAgICAgICAgICAgICAgICAgICAgICAgICAgICAgICAgICAgICAgICAgICAgICAKICAgICAgICAgICAgICAgICAgICAgICAgICAgICAgICAgICAgICAgICAgICAgICAgICAgICAgICAgICAgICAgICAgICAgICAgICAgICAgICAgICAgICAgICAgICAgICAgICAgIAogICAgICAgICAgICAgICAgICAgICAgICAgICAgICAgICAgICAgICAgICAgICAgICAgICAgICAgICAgICAgICAgICAgICAgICAgICAgICAgICAgICAgICAgICAgICAgICAgICAgCiAgICAgICAgICAgICAgICAgICAgICAgICAgICAgICAgICAgICAgICAgICAgICAgICAgICAgICAgICAgICAgICAgICAgICAgICAgICAgICAgICAgICAgICAgICAgICAgICAgICAKICAgICAgICAgICAgICAgICAgICAgICAgICAgICAgICAgICAgICAgICAgICAgICAgICAgICAgICAgICAgICAgICAgICAgICAgICAgICAgICAgICAgICAgICAgICAgICAgICAgIAogICAgICAgICAgICAgICAgICAgICAgICAgICAgPD94cGFja2V0IGVuZD0ndyc/Pv/bAEMABwUFBgUEBwYFBggHBwgKEQsKCQkKFQ8QDBEYFRoZGBUYFxseJyEbHSUdFxgiLiIlKCkrLCsaIC8zLyoyJyorKv/bAEMBBwgICgkKFAsLFCocGBwqKioqKioqKioqKioqKioqKioqKioqKioqKioqKioqKioqKioqKioqKioqKioqKioqKv/AABEIAO4DAwMBIgACEQEDEQH/xAAfAAABBQEBAQEBAQAAAAAAAAAAAQIDBAUGBwgJCgv/xAC1EAACAQMDAgQDBQUEBAAAAX0BAgMABBEFEiExQQYTUWEHInEUMoGRoQgjQrHBFVLR8CQzYnKCCQoWFxgZGiUmJygpKjQ1Njc4OTpDREVGR0hJSlNUVVZXWFlaY2RlZmdoaWpzdHV2d3h5eoOEhYaHiImKkpOUlZaXmJmaoqOkpaanqKmqsrO0tba3uLm6wsPExcbHyMnK0tPU1dbX2Nna4eLj5OXm5+jp6vHy8/T19vf4+fr/xAAfAQADAQEBAQEBAQEBAAAAAAAAAQIDBAUGBwgJCgv/xAC1EQACAQIEBAMEBwUEBAABAncAAQIDEQQFITEGEkFRB2FxEyIygQgUQpGhscEJIzNS8BVictEKFiQ04SXxFxgZGiYnKCkqNTY3ODk6Q0RFRkdISUpTVFVWV1hZWmNkZWZnaGlqc3R1dnd4eXqCg4SFhoeIiYqSk5SVlpeYmZqio6Slpqeoqaqys7S1tre4ubrCw8TFxsfIycrS09TV1tfY2dri4+Tl5ufo6ery8/T19vf4+fr/2gAMAwEAAhEDEQA/APpGiiigAooooAKKKKACiiigAooooAKKKKACiiigAooooAKKKKACiiigAooooAKKKKACiiigAooooAKKKKACiiigAooooAKKKKACiiigAooooAKKKKACiiigAooooAKKKKACiiigAooooAKKKKACiiigAooooAKKKKACiiigAooooAKKKKACiiigAooooAKKKKACiiigAooooAKKKKACiiigAooooAKKKKACiiigAooooAKKKKACiiigAooooAKKKKACiiigAooooAKKKKACiiigAooooAKKKKACiiigAooooAKKKKACiqM2t6VbzNFcanZxSIcMj3Cqyn3BNM/4SHRf+gvYf+BKf40AaNFZ3/CQ6L/0F7D/AMCU/wAaP+Eh0X/oL2H/AIEp/jQBo0Vnf8JDov8A0F7D/wACU/xo/wCEh0X/AKC9h/4Ep/jQBo0Vnf8ACQ6L/wBBew/8CU/xp0eu6RNKscOqWUkjnCqtwhLH0AzQBfooooAKKKKACiiigAooooAKKKKACiiigAooooAKKKKACiiigAooooAKKKKACiiigAooooAKKK474h/EOH4f2umySaVdapLqV19lggtSN5cjgAHqSeMCgDsaK8q/4XHrv/RKvFn/AIDH/Cj/AIXHrv8A0SrxZ/4DH/CgD1WivKv+Fx67/wBEq8Wf+Ax/wo/4XHrv/RKvFn/gMf8ACgD1WivKv+Fx67/0SrxZ/wCAx/wo/wCFx67/ANEq8Wf+Ax/woA9Voryr/hceu/8ARKvFn/gMf8KP+Fx67/0SrxZ/4DH/AAoA9Voryr/hceu/9Eq8Wf8AgMf8KP8Ahceu/wDRKvFn/gMf8KAPVaK8q/4XHrv/AESrxZ/4DH/Cj/hceu/9Eq8Wf+Ax/wAKAPVaK8q/4XHrv/RKvFn/AIDH/Cq178dbzSoo59Y+HXiPTrZ5Vi8+6i8tAzHAGSKAPXqKAcqD60UAFFFFABRRVS51fTbKbyrzULW3kxnZLMqnHrgmgC3RWd/wkOi/9Bew/wDAlP8AGj/hIdF/6C9h/wCBKf40AaNFZ3/CQ6L/ANBew/8AAlP8aP8AhIdF/wCgvYf+BKf40AaNFZ3/AAkOi/8AQXsP/AlP8aP+Eh0X/oL2H/gSn+NAGjRWd/wkOi/9Bew/8CU/xrQVgyhlIIIyCD1oAWiiigAooooAKKr3eoWVhs+3XcFtvzt86UJux1xk89arf8JDov8A0F7D/wACU/xoA0aKzv8AhIdF/wCgvYf+BKf40f8ACQ6L/wBBew/8CU/xoA0aKzv+Eh0X/oL2H/gSn+NH/CQ6L/0F7D/wJT/GgDRorO/4SHRf+gvYf+BKf40f8JDov/QXsP8AwJT/ABoA0aKzv+Eh0X/oL2H/AIEp/jR/wkOi/wDQXsP/AAJT/GgDRopkUsc8KywSLJG4yro2Qw9QRT6ACiiigAooooAKKK5b4l6te6F8ONY1LSpjBd28StFIFB2neo6HjoTQB1NFMhYvBGzdWUE/lXNL45gvp7lfD2k6hrcNpIYp7qzEYiDr95VZ3XeR325+tAHUUVmaD4h07xLp5vNKmMiJI0UsboUkhkX7yOp5Vh6GsTw7rWoL498R+HNan81o2jv9NYqBm1kG0rwOdjqw9eRQB11FFFABRRRQAUUUUAFFFFAHgGh/DXwz4/8Ai38Q38T2ktw1nfwiExzvHtDI2fukZ+6K6z/hnH4b/wDQJuf/AANl/wDiqT4X/wDJWPid/wBhC2/9AevVKAPLP+Gcfhv/ANAm5/8AA2X/AOKo/wCGcfhv/wBAm5/8DZf/AIqvUmdUQs7BVUZJJwAKr/2lY7d32y32+vmr/jQB5r/wzj8N/wDoE3P/AIGy/wDxVH/DOPw3/wCgTc/+Bsv/AMVXpz3VvHAJ3njWJsYkLgKc9OajOo2Qxm8txk4H71ef1oA81/4Zx+G//QJuf/A2X/4quO8afC3wr4C8V+Brzw1ZS281zr0MUjPcPJleuMMT3FfQleV/Gb/kO/D7/sYov5UAeqUUUUAFFFFABRRRQAUUUUAFFFFABRRRQAUUUUAFFFFABRRRQAUUUUAFFFFABRRRQAUUUUAFeSfHD/kOfDr/ALGa3/8AQlr1uvJPjh/yHPh1/wBjNb/+hLQB63RRRQAUUUUAFFFFABRRRQAUUUUAFFFFABXlv7Qv/JMY/wDsKWv/AKHXqVeW/tC/8kxj/wCwpa/+h0AeoJ/q1+gp1NT/AFa/QU6gAooooAK+fvFXhHR/G37U76T4ht3nszoqy7EkZDuXocjnvX0DXjK/8nhN/wBgCgDT/wCGcfhv/wBAm5/8DZf/AIqj/hnH4b/9Am5/8DZf/iq9TooA8s/4Zx+G/wD0Cbn/AMDZf/iqP+Gcfhv/ANAm5/8AA2X/AOKr0v8AtCyOcXkHBwf3q8frT0ureSFpo542iXO51cFRjrzQB5j/AMM4/Df/AKBNz/4Gy/8AxVH/AAzj8N/+gTc/+Bsv/wAVXpX9o2W3d9st9vr5q/41OjrJGrxsrowyrKcgigD58+LPwT8EeFPhjqus6Lp08N7bLGYna6kcDMig8E4PBNe76H/yL2nf9esX/oArh/j5/wAkT17/AHYv/RqV3Gif8i/p3/XrF/6AKAL1FFFABRRRQB4Z+0JptrrPi/4dabqCF7a71CaGVVYqSrNCCMjpxXQf8M4/Df8A6BNz/wCBsv8A8VWV8cP+SifDD/sLP/6HBXtFAHln/DOPw3/6BNz/AOBsv/xVH/DOPw3/AOgTc/8AgbL/APFV6nRQB5Z/wzj8N/8AoE3P/gbL/wDFUf8ADOPw3/6BNz/4Gy//ABVep0UAeWf8M4/Df/oE3P8A4Gy//FUf8M4/Df8A6BNz/wCBsv8A8VXqdV76/tNMsZbzUbmK1toVLSTTOFVR6kmgDzT/AIZx+G//AECbn/wNl/8AiqxPGnwE8AaN4G1rUrDTLhLq0spZoWN5IQrKpIOCeea7DwZ8Trb4geMNSs/DcRfRtLiHm30ikG4lY4UIOygBjk8njgVsfEn/AJJf4k/7Bs//AKAaAK3wn/5JF4X/AOwbD/6DXX1yHwn/AOSReF/+wbD/AOg119ABRRRQAUUUUAFcV8Yf+SRa/wD9cF/9GLXa1xXxh/5JFr//AFwX/wBGLQAvxP12bw38INa1K1bbcLZeXEwOCrPhAR7jdn8Kn+FdlHYfCfw1BEoUf2fFIcDqXXcT+bGsH46xNL8CdY2DOyOBj9BIldP8OmD/AAx8NMOR/Zdv/wCi1oA4jQ9Q/sj9qHxFo8Q22+r6ZDeMgPHmoAN2PUgmt74hD+wNf8O+M4hhLG5+wag3b7LOQpY+yvsb865JI2m/bGkZORDomX9sqB/7MK9S8X2dhqHgvWLXWHEdjLZSieQ/wLtOW/Dr+FAGxRXN/Du8v7/4b6BdauhS8ksYzJnq3y8MfQkYOO2a6SgAorA8Z6tr2jaB9q8K6GNcvvOVPspmEXyHOWyfTj864D/hYPxa/wCiVL/4MkoA9eoryH/hYPxa/wCiVL/4Mko/4WD8Wv8AolS/+DJKAPXqK8h/4WD8Wv8AolS/+DJKP+Fg/Fr/AKJUv/gySgC18L/+SsfE7/sIW3/oD16pXjXwPvNR1Dxv8QrrW9P/ALM1CW8tmns/M3+U21+N3evZaAGTQxXEDw3EaSxSKVdHUMrA9QQeorwH4eeGtD8V/Hvxpqj6JYtpelstpbwfZ18oSfdLBcYz+7Y/8Cr2/wARasuheGNS1aTG2ytZJ+eh2qSP5V4z8CdN8aWfw+bVNLg0Z11m7ku2kv5ZllY525IVSMfKSPrQB7Jq9rpNv4bnXULC1k06zhMpt5IVMaqik8KRgYArxz9nXwjpOo+FdQ8Talo9lJPqGoyNb+ZAreTGvQJkcDcW6egrQ+Muv+NdE+F2ptqsehRwXoFmTZzTGX95wdoZQOgP4V6D8N9EPhz4a6DpbLtkhskMgx/Gw3N/48xoA6avK/jN/wAh34ff9jFF/KvVK8f+PtzeWcngm40uz+3XkWuo8Ftu2+c4U4XPbJ4oA9goryH/AIWD8Wv+iVL/AODJKP8AhYPxa/6JUv8A4MkoA9eoryH/AIWD8Wv+iVL/AODJKP8AhYPxa/6JUv8A4MkoA9eoryH/AIWD8Wv+iVL/AODJKP8AhYPxa/6JUv8A4MkoA9Wvr+00yykvNRuobS2iG6SaZwiKPcnisjw/468L+KppIfD2uWd/NH96KKT5wPXaeSPfpXzD8ePF3jfWbfSbLxb4fbw7a5kkjt1uBKtwwwNxI9M4x715Z4a1G/0nxRpt7pEkkd7DcoYTGeS2QMe+emO+aAP0QoryH/hYPxa/6JWv/gySj/hYPxa/6JUv/gySgD16ivIf+Fg/Fr/olS/+DJKP+Fg/Fr/olS/+DJKAPXqK8h/4WD8Wv+iVL/4Mko/4WD8Wv+iVL/4MkoA9eoryH/hYPxa/6JUv/gySj/hYPxa/6JUv/gySgD16ivIf+Fg/Fr/olS/+DJKP+Fg/Fr/olS/+DJKAPXqK8h/4WD8Wv+iVL/4Mko/4WD8Wv+iVL/4MkoA9eoryH/hYPxa/6JUv/gySj/hYPxa/6JUv/gySgD16ivIf+Fg/Fr/olS/+DJKP+Fg/Fr/olS/+DJKAPXqK8h/4WD8Wv+iVL/4Mko/4WD8Wv+iVL/4MkoA9eryT44f8hz4df9jNb/8AoS0z/hYPxa/6JUv/AIMkrjPG/iXxprnirwJF4v8ABw0CCPxDbNDMLpZfMbevy4HTjmgD6RooooAKKKKACiiigAooooAKKKKACiiigAry39oX/kmMf/YUtf8A0OvUq8q/aKZ0+FQaJN7rqVsVTONx3cCgD1NP9Wv0FOryBfiD8Wgox8Kl6f8AQSSl/wCFg/Fr/olS/wDgySgD16ivIf8AhYPxa/6JUv8A4Mko/wCFg/Fr/olS/wDgySgD16vGV/5PCb/sAVY/4WD8Wv8AolS/+DJK5nwZquu6x+1F9q8U6GNDvzorKbQTCX5QRhtw9aAPoSiiigDwDxT4e0TxN+09oegw6RZi006za8v1jgUCZjlgHA6jOzr/AHjXucGkaba6e9ha6faw2b5328cKrG2euVAwc14T8NJPEfiX4oeN/GXh6DS5Fe6NhE+oPIuI1PAXYD/CiZ/CvRdf1vx74f8ADuoaveW/hnyLK3ed9s9xkhRnAyvWgDzz4c+G9B8WfHXxrq7aLYtpmlutpawfZ18oSfdLhcYz+7Y/8Cr32CCK2gSC2iSKKNQqRxqFVQOgAHQV5T+zjpUlp8Lf7UuVP2nWLyW7d2HLDO0H/wAdJ/GvWaAPOfj5/wAkT17/AHYv/RqV3Gh/8i/p3/XrF/6AK4f4+f8AJE9e/wB2L/0alc9pvj74rRaTaRwfC5ZIlgRUf+0UG5QowcUAez0V5D/wsH4tf9EqX/wZJR/wsH4tf9EqX/wZJQB69RXkP/Cwfi1/0Spf/BklH/Cwfi1/0Spf/BklAFX44f8AJRPhh/2Fn/8AQ4K9or5n8a+IfF2u/Ej4fDxj4UHh4Q6r/o5FysvnZeLd06Ywv519MEgAknAHU0AFUtU1rS9DtTc6zqFrYwgZ33Myxj9TXlviL4q6z4m1+bwt8IbNNQu4jtu9ZlGba1+h6Mffn2BqbRfgLpk92uq/EPU7vxXqxGXNzKwgQ+ir1I+vHtQBcvv2hPh7Z3Bhh1O4v3H/AD52ruPzIAqoP2jPBoI82y12JD0d9P4/Rq9F0vw3omiQiLR9IsbFB0Fvbqn8hWkVVlwygj0IoA4LQ/jd8P8AXplht/EENtMxwI71Wg5+rAD9a88/aAtrPxrrnh7wz4bnnvvEF229Y4rkm2jgOfndRkD13DnAPtXb/Fy08B6J4OutX8T+HtPvJiPLtoxCElmlP3VDLhvcnPABrzLwX8H/AB74P0S08Y+Fb23h1yaItPo11H8rQkgiLcejYAyOO3PFAHo3wE8Dah4F8F31prlqLfUZtQdpMMGDIqqqEEdR1I+tdX8Sf+SX+JP+wbP/AOgGsf4efFSy8aTTaTqVq+jeJLMYutMuOGyOrJnqPbqP1rY+JP8AyS/xJ/2DZ/8A0A0AVvhP/wAki8L/APYNh/8AQa6+uQ+E/wDySLwv/wBg2H/0GuvoAKKKKACiiigArivjD/ySPX/+uC/+jFrta4z4uxvN8JteSJGdzAuFUZJ/eL2oA39W0e38Q+FLrSL0ZgvrRoH46Blxn6jrXH+B9Su/BfhO28NeKrC+F1pYNvBc2lpJPFexg/IyFAcHGAVbBBFegW4ItogRghB/KpKAOA8C+GtQbxjr/jfXrZrO71cpBaWchBe3towAu/HRmwCR2qT4oSvqdnpXhC1Y+d4ivFhnCnlbRPnnb6bQF/4FXd1wugQy698Vtd1+5idLfSIxpFgHUgMeJJ5Bn1JVc/7NAHbxRJBCkUKBI41CoqjAUDgCn0UUAFFFFABRRRQAUUUUAeV/C/8A5Kx8Tv8AsIW3/oD16pXlfwv/AOSsfE7/ALCFt/6A9eqUAeVftF6y+m/CaeytmxcatcxWiKD8zAncwH4Lj8a77wnow8PeD9J0gAA2VpHC2P7wUZ/XNZOpfC7wZrF01zquhxXkzOzlp5ZHwScnGW4/CtvT/D+m6VpUunWEDRWsu7chmdjyMHDEkjj0NAHkvxwLeIvHvgTwXEdyXV99ruU/2FIGT/wHzK9s6VxzfCbwO92Lt9Aie5XpO00hkH/At2a6uzs4dPsorS1UpDCoRFLFiAPckk/jQBNXlfxm/wCQ78Pv+xii/lXqleV/Gb/kO/D7/sYov5UAeqUUUUAFFFFABRRRQBz/AIy8E6H480T+y/EVqZoQ2+KRG2yQtjG5W7H9K8c/Z/8Ahl4ck/tDxHd28l1f6bq89pa+c+UjEYXa+0Dl/mPJ9sAV9B15V+z9/wAij4g/7GO7/klAHqtFFFABRRRQAUUUUAFFFFABRRRQAUUUUAFFFFABRRRQAUUUUAFeSfHD/kOfDr/sZrf/ANCWvW68k+OH/Ic+HX/YzW//AKEtAHrdFFFABRRRQAUUUUAFFFFABRRRQAUUUUAFeW/tC/8AJMY/+wpa/wDodepV5b+0L/yTGP8A7Clr/wCh0AeoJ/q1+gp1NT/Vr9BTqACiiigArxlf+Twm/wCwBXs1eMr/AMnhN/2AKAPZq53x/rv/AAjXw91vVwwWS2s5DET/AM9CMJ/48RXRVzuu+AvDPia5afXtLW+dgARLK+3jp8u7H6UAct+z/oraP8HdMeVdsuoM965I5O8/KT/wELVT9ovW30z4TzWFsc3Gr3EdoijqwzubH4Lj8a73QPCWieF1ddBsRZo6hSiyuygDphSSB17Vl6l8LvBmsXb3Oq6HFeTO7OXnlkfBJycZbjn0oA1/Cujr4f8ACOlaSgCiytI4SB6hQD+ua1qo6Ro1joVj9k0uFoYNxbaZGfk+7EntV6gDzn4+f8kT13/di/8ARqV3Gh/8i/p3/XrF/wCgCuH+Pn/JE9e/3Yv/AEaldxof/Iv6d/16xf8AoAoAvUUUUAFFFFAHi/xw/wCSifDD/sLP/wChwV6d4u8Pt4q8KX2ipqNxppvI9n2m2PzqM9PcHoR6E15j8cP+SifDD/sLP/6HBXtFAGJ4S8I6R4K8PwaRoVssMEY+ZyPnlbuzHuTW3RRQAVFdXMFlaS3V3KkMEKGSSRzhUUDJJPpUteN/FC+1Xx741tvhf4fM1talVudcvQuAkPBCD1zx9SQOxoApeFrWf40fEdvGWrRMPCmiSmLRrWVeLiUHmUjvyAfrtHY17jVLR9IstB0a10rSoFgs7SMRRRr2A/me5Pc1doA4vxl8MtL8Xa1pmtLcT6Xq+nTpIt9Z4WSRAeYye49D2+nFXfiT/wAkv8Sf9gyf/wBANdPXM/En/kl/iT/sGz/+gGgCt8J/+SReF/8AsGw/+g119ch8J/8AkkXhf/sGw/8AoNdfQAUUUUAFFFFABRRRQAUUUUAFFFFABRRRQAUUUUAFFFFABRRRQB5J8OL60s/ix8Tftd1DBu1C32+bIFz8j+tem/23pX/QTs//AAIT/GuU1n4NeBNf1i51XVtDW4vLp980v2iRdzeuA2Kpf8KC+G3/AELi/wDgVN/8VQB3H9t6V/0E7P8A8CE/xo/tvSv+gnZ/+BCf41w//Cgvht/0Li/+BU3/AMVR/wAKC+G3/QuL/wCBU3/xVAHcf23pX/QTs/8AwIT/ABo/tvSv+gnZ/wDgQv8AjXD/APCgvht/0Li/+BU3/wAVR/woL4bf9C4v/gVN/wDFUAdx/belf9BOz/8AAhf8a8y+L1/aXev/AA/W1uoJ2XxFESI5AxAx7Vq/8KC+G3/QuL/4FTf/ABVWdN+CXgDSNUttQ0/QViurWVZYZPtEp2spyDgtjrQB3tFFFABRRRQAUUUUAFeVfs/f8ij4g/7GO7/kleq15V+z9/yKPiD/ALGO7/klAHqtFFFABRRRQAUUUUAFFFFABRRRQAUUUUAFFFFABRRRQAUUUUAFeSfHD/kOfDr/ALGa3/8AQlr1uvJPjh/yHPh1/wBjNb/+hLQB63RRRQAUUUUAFFQ3F7a2m37Xcwwb/u+ZIF3fTNRx6pp8syxRX1s8j8KizKS30GaALVFQ3F5bWiqbu4igDHCmVwuT7ZpsF/Z3UhjtruCZwMlY5AxA9cCgCxRRRQAUUUUAFeW/tC/8kxj/AOwpa/8AodepV5b+0L/yTGP/ALClr/6HQB6gn+rX6CnU1P8AVr9BTqACiiigArxWW4htv2vmkuZo4U/sHG6Rgo/M17VXH+JfhV4O8X6wdU8Q6QLu8MaxmQzSL8o6DCsB3oA6P+2tK/6CVn/3/X/Gj+2tK/6Cdn/3/X/GuG/4UF8Nv+hcX/wKm/8AiqP+FBfDb/oXF/8AAqb/AOKoA7n+2tK/6CVn/wB/1/xo/trSv+glZ/8Af9f8a4b/AIUF8Nv+hcX/AMCpv/iqP+FBfDb/AKFxf/Aqb/4qgDuf7a0r/oJ2f/f9f8aP7a0r/oJ2f/f9f8a4b/hQXw2/6Fxf/Aqb/wCKo/4UF8Nv+hcX/wACpv8A4qgCr8d9UsLj4L65Hb31tLIyxYRJlJP71ewNehaH/wAi/p3/AF6xf+gCuH/4UF8Nv+hcX/wJm/8Aiq9DghS2t44IV2xxqEQZ6ADAoAfRRRQAUUUUAeK/HR1j+IPwxeRlRF1WQlmOABvg7167/bWl/wDQSs/+/wCv+NZXizwF4b8cLaL4n04Xosy5gzK6bN2N33SM52j8q5v/AIUF8Nv+hcX/AMCpv/iqAO5/tvSv+gnZ/wDgQv8AjR/bWlf9BOz/APAhf8a4b/hQXw2/6Fxf/Aqb/wCKo/4UF8Nv+hcX/wACpv8A4qgDuf7b0r/oJ2f/AIEL/jTP7W0cSmQahY+YVCl/OTJHpnPTmuJ/4UF8Nv8AoXF/8Cpv/iqP+FBfDb/oXF/8Cpv/AIqgDuP7b0r/AKCdn/4EL/jR/belf9BOz/8AAhf8a4f/AIUF8Nv+hcX/AMCpv/iqP+FBfDb/AKFxf/Aqb/4qgDuf7a0r/oJ2f/gQv+Nc18RdW06X4Z+I0i1C1d202cBVmUknYfesv/hQXw2/6Fxf/Aqb/wCKo/4UF8Nv+hcX/wACpv8A4qgDX+E//JIvC/8A2DYf/Qa6+qmlaXZ6JpFrpmmQ+TaWkYihj3E7VHAGTzVugAooooAKKKKACiiigAooooAKKKKACiiigAooooAKKKKACiiigAooooAKKKKACiiigAooooAKKKKACiiigAooooAK8q/Z+/5FHxB/2Md3/JK9Vryr9n7/AJFHxB/2Md5/JKAPVaKKKACiiigAooooAKKKKACiiigAooooAKKKKACiiigAooooAK8k+OH/ACHPh1/2M1v/AOhLXrdeSfHD/kOfDr/sZrf/ANCWgD1uiiigAooooA4P4yvpNn8Lda1HVtOtL2SC1eO1NxCrlJJMIpUkcHJB49KzPgj4G0jRfhroWoS6VanVbiH7W128CmUF8lcMRkfKQKxv2jbyS90fw54StcmbXNUjRgOuxSBj/vp1/KvY7S2jsrKC1t1CxQRrGigdFAwB+QoA5j4mWWlXXgHU5NY022v/AC4GW3WeIOVlf5E256Hcy8irXg/wPoXgvSbe10bTba3nSBYprlIgJZiAMlm6nJ5qDxey3ur+HNEK7hd3/wBplH/TO3Uyc/8AA/LH411NABRXPeJPHGieFJBHq07iQQNcukSFzFCpAMjei5IHuTgZNbtvPFdW0VxbuHilQOjD+JSMg/lQBJRRRQAV5b+0L/yTGP8A7Clr/wCh16lXlv7Qv/JMY/8AsKWv/odAHqCf6tfoKdTU/wBWv0FOoAKKKKACiiigAooooAKKKKACiiigAooooAKKKKACiiigAooooAKKKKACiiigAooooAKKKKACiiigAooooAKKKKACiiigAooooAKKKKACiiigAooooAKKKKACiiigAooooAKKKKACiiigAooooAKKKKACiiigAooooAK8q/Z+/wCRR8Qf9jHd/wAkr1WvKv2fv+RR8Qf9jHd/ySgD1WiiigAooooAKKKKACiiigAooooAKKKKACiiigAooooAKKKKACvJPjh/yHPh1/2M1v8A+hLXrdeSfHD/AJDnw6/7Ga3/APQloA9booooAKKKKAPH/iDahP2hfh9f6j8un7ZoYnfhRcYYqM+pyuPcV69LLHDE8szrHGgLM7nAUDqSe1UNd0DS/Eulvp2uWcd5auQ2x+qsOjKRypHYjmseL4e6PujF/PqWpwREGO21C/lnhXHTKMcNj/azQAmgO3iLxNP4lUEadFB9j0wsuDMpYNLMM/wsVUL6hc9CK6iQusTGNQ7hSVUnGT6Z7UqqFUKoAAGAAOlBIVSWOABkmgDyLw0b3xN8YPGF1qOh21zaQx2ulzRy3CyJGADIwAK4fkgkcYNeuqoRQqAKoGAAMACvOvgopufCWqa2451rWru9Vv7yl9in8kr0agAooooAK8t/aF/5JjH/ANhS1/8AQ69Sry39oX/kmMf/AGFLX/0OgD1BP9Wv0FOpqf6tfoKdQAUUUUAFFFFABRRRQAUUUUAFFFFABRRRQAUUUUAFFFFABRRRQAUUUUAFFFFABRRRQAUUUUAFFFFABRRRQAUUUUAFFFFABRRRQAUUUUAFFFFABRRRQAUUUUAFFFFABRRRQAUUUUAFFFFABRRRQAUUUUAFFFFABRRRQAV5V+z9/wAij4g/7GO7/kleq15V+z9/yKPiD/sY7v8AklAHqtFFFABRRRQAUUUUAFFeb/F3xv4i8It4ctfCcNhLeazffYwL5GK5OAvIYY5PWsn7b8ff+gb4S/76k/8Ai6APXqK8h+2/H3/oG+Ev++pP/i6Ptvx9/wCgb4S/76k/+LoA9eoryH7b8ff+gb4S/wC+pP8A4uj7b8ff+gb4S/76k/8Ai6APXqK8h+2/H3/oG+Ev++pP/i6hu9W+PNlZT3U+m+E/KgjaR8NIThRk/wAftQB7JRXJfC7xRfeM/hrpWv6skCXd4JTItupVBtldBgEk9FHeutoAKKKKACvJPjh/yHPh1/2M1v8A+hLXrdeSfHD/AJDnw6/7Ga3/APQloA9booooAKKKKACiiigArk/Fnh7xFq+rWs+ha6LC1W2mt7i2cHaxkGBKMfeZRkgHAzjnrnrKKAM/QdFtPDvh+x0fTlK21jAsMeepAGMn3PU/WtCiigAooooAK8t/aF/5JjH/ANhS1/8AQ69Sry39oX/kmMf/AGFLX/0OgD1BP9Wv0FOpqf6tfoKdQAUUUUAFFFFABRRRQAUUUUAFFFFABRRRQAUUUUAFFFFABRRRQAUUUUAFFFFABRRRQAUUUUAFFFFABRRRQAUUUUAFZXibX7bwt4bvNavo5JILRA7rEAWOSBxn61q1xXxh/wCSRa//ANcF/wDRi0AdojB0Vh0YZFBYLjJAz0yaxvEOvQ+F/BN9rdzgx2NmZtp/iIXhfxOB+Nct8PfDtt4g8F2fiDxbCuq6rrMQuppLkbliV+VjjU8IqqR0+tAHodZGi+JLTXNQ1eyt0liuNJu/stxHKADnaGVh/skHIrjvAusXGk/EbxD4BvLqS6t7GOO90ySdy0iwOBuiLHlgpIAJ5xVvVf8AimfjFpmqZ2WPiS3OnXJ7faY8vCx9yu9fwFAHe0UUUAFFFFABRRRQAUUUUAFFFFABRRRQAUUUUAFFFFABRRRQAUUUUAFFFZfiTxHpvhPw/dazrdwILS2Xcx7seyqO5J4AoA1K8q/Z+/5FHxB/2Md3/JKyLHUvir8VIzf6Lcw+CvDs3/HvJJGJLqdP7wz0yO42+2etcf8ACzwv8RD4e1fUvBPi6ON7fVriCTT7yHdHcyKFy+TnDNkfl1oA+nKK85+HvxQm8QaxceFvF+nf2J4ps1zJbE/JcKP44z9OcZPHIJ7ejUAFFFFABRRRQB5D8bv+Rr+G3/Ywxf8AoSV69XkPxu/5Gv4bf9jDF/6ElevUAFFFeUfGLxf4t8CQWl/oWo2M41C8S1ttOlsCWBK8neH55HoOtAHq9FYvh2z8Q20Lt4m1a1v5XVdqW1n5KxH+Lku279OlebeKPFnj3R/inong/S9Y0u7fV1aZpH00qbWMFuSBId3Cn06UAex1m+JP+RV1b/rym/8AQDUmj2+pWtgI9Zv4tQudxJmitvIXHYbdzdPXNR+JP+RV1b/rym/9ANAHF/AH/khvh7/dn/8ASiSvRq85+AP/ACQ3w9/uz/8ApRJXo1ABRRRQAV5J8cP+Q58Ov+xmt/8A0Ja9bryT44f8hz4df9jNb/8AoS0Aet0UUUAFFFFABRRRQAUUUUAFFFFABRRRQAV5b+0L/wAkxj/7Clr/AOh16lXlv7Qv/JMY/wDsKWv/AKHQB6gn+rX6CnU1P9Wv0FOoAKKKKACiiigAooooAKKKKACiiigAooooAKKKKACiiigAooooAKKKKACiiigAooooAKKKKACiiigAooooAKKKKACuK+MP/JItf/64L/6MWu1rivjD/wAki1//AK4L/wCjFoAyPju7J8CNX2/xRwA/TzErqfh2APhl4ax0/su2/wDRa1V+Ifh2TxX8K9X0e3Gbi4sswgd5Fw6j8SoH41D8I9Sj1P4T6A8bfPb2i20yd45I/kZSOxBFAHEByn7YxC9H0TDY9Nuf6CvQviLoU2veB72Kw41G023tgw6rPEd6Y+pGPoTXG+FrAa/+0Z4o8TQZey0u1j0yOYfdebCmQA99uCD9a6/4k63Povgi6/s4n+0tQZbCwA6meY7FP4ZLf8BoA1vDGuw+JvCum61bYCXtuku0fwsR8y/UHI/CtWs3w5osHhzw1p2jWgHlWNukIIH3sDlvqTk/jWlQBR1fW9L8P2P23W7+3sLbeE864kCLuPQZPfisL/haXgT/AKG7R/8AwMT/ABrd1fRNM1+x+x63YW9/bbw/k3EYddw6HB781h/8Kv8AAv8A0KOjf+ASf4UAJ/wtLwJ/0N2j/wDgYn+NH/C0vAn/AEN2j/8AgYn+NL/wq/wL/wBCjo3/AIBJ/hR/wq/wL/0KOjf+ASf4UAJ/wtLwJ/0N2j/+Bif40f8AC0vAn/Q3aP8A+Bif40v/AAq/wL/0KOjf+ASf4Uf8Kv8AAv8A0KOjf+ASf4UAJ/wtLwJ/0N2j/wDgYn+NH/C0vAn/AEN2j/8AgYn+NL/wq/wL/wBCjo3/AIBJ/hR/wq/wL/0KOjf+ASf4UAJ/wtLwJ/0N2j/+Bif40f8AC0vAn/Q3aP8A+Bif40v/AAq/wL/0KOjf+ASf4Uf8Kv8AAv8A0KOjf+ASf4UAJ/wtLwJ/0N2j/wDgYn+NH/C0vAn/AEN2j/8AgYn+NL/wq/wL/wBCjo3/AIBJ/hR/wq/wL/0KOjf+ASf4UAJ/wtLwJ/0N2j/+Bif40f8AC0vAn/Q3aP8A+Bif40v/AAq/wL/0KOjf+ASf4Uf8Kv8AAv8A0KOjf+ASf4UAJ/wtLwJ/0N2j/wDgYn+NH/C0vAn/AEN2j/8AgYn+NL/wq/wL/wBCjo3/AIBJ/hR/wq/wL/0KOjf+ASf4UAJ/wtLwJ/0N2j/+Bif40f8AC0vAn/Q3aP8A+Bif40v/AAq/wL/0KOjf+ASf4Uf8Kv8AAv8A0KOjf+ASf4UAJ/wtLwJ/0N2j/wDgYn+NeU/Evxd4X8bfEvwnoM3iOwbw1blr7UJRcr5LuudsbHOM/LjHo9er/wDCr/Av/Qo6N/4BJ/hXlPxK8I+F/BXxO8J67P4d09PDVzusL+IWq+TG7Z2yMMYz82c+iUAeqJ8TvAUaKkfizRVVRhVF4gAHp1rzf4I+OfC2i+F9bh1bxDptlJNr11NGk9yqF42CYYAnkHB5r0lfhj4DdQ6eEtFZWGQRZxkEflXm/wAEfA3hbWfDGtzat4e028kh166hjee2VykahMKCR0GTxQBR+NnirwrPFovi7wpr+mXXiDRL2NkW2uVZ5YSfmUgHJGf0LetepwfFbwLNbxynxXpMZdA2x7xAVyM4PPWvLfjd4V8K29tovhLwroGmWviDXL2NY2trVVeKEH5mJAyBnH4BvSvUoPhV4Fht44j4U0iQxoF3vZoWbAxknHWgB/8AwtLwJ/0N2j/+Bif40f8AC0vAn/Q3aP8A+Bif40v/AAq/wL/0KOjf+ASf4Uf8Kv8AAv8A0KOjf+ASf4UAJ/wtLwJ/0N2j/wDgYn+NH/C0vAn/AEN2j/8AgYn+NL/wq/wL/wBCjo3/AIBJ/hR/wq/wL/0KOjf+ASf4UAeZ/FTxb4e8SeMPh3HoGtWOovD4giaRbWdZCgLpgnHSvdq8J+KnhPw/4c8YfDuTQNFsdOebxBEsjWsCxlwHTAOBzXu1ABXg/wAVdUstQ/aA8GaTqV0kFhpKG/uGfJVWJ3DOO58tR/wKveK8T+FS/wDCTfHDx54tZt8NvKunWzdcgHBx+Ea/99UAei/8LI8I/wDQct/++W/wrzXwFcR+Nv2kvE3ia3kE9hpNotlayDOCTgcZ/wB2T869l1jUY9I0O+1GcgR2dvJOxPoqlv6V5Z+zfpksfgC9168Ja51zUJblmPUqDtH/AI9vP40Aev1m+JP+RV1b/rym/wDQDWlWb4k/5FXVv+vKb/0A0AeV/BTx94S0b4PaHYat4j0yzu4Vm8yCe5VXTM8hGQTxwQfxru/+FpeBP+hu0f8A8DE/xrhPgp4C8J6z8HdDv9W8OaZeXcyzeZPPao7vieQDJI54AH4V3n/Cr/Av/Qo6N/4BJ/hQAn/C0vAn/Q3aP/4GJ/jR/wALS8Cf9Ddo/wD4GJ/jS/8ACr/Av/Qo6N/4BJ/hR/wq/wAC/wDQo6N/4BJ/hQAn/C0vAn/Q3aP/AOBif415t8VvF3h7xH4i+H8Oga1Y6jLF4kt3kS1nWQqu9RkgHivSv+FX+Bf+hR0b/wAAk/wrzX4r+EfD3hzxF8P5tB0Wx06WXxJbpI9rAsZYb1OCQORQB7pRRRQAUUUUAFFFFABRRRQAUUUUAFFFFABXln7Q7rH8LUdyFVdTtSSew316nXln7Q6LJ8LUR1DK2p2oIPQjfQB06/FDwKEXPi7Run/P4n+NL/wtLwJ/0N2j/wDgYn+NInwv8ClFz4R0bp/z5J/hTv8AhV/gX/oUdG/8Ak/woAT/AIWl4E/6G7R//AxP8aP+FpeBP+hu0f8A8DE/xpf+FX+Bf+hR0b/wCT/Cj/hV/gX/AKFHRv8AwCT/AAoAT/haXgT/AKG7R/8AwMT/ABo/4Wl4E/6G7R//AAMT/Gl/4Vf4F/6FHRv/AACT/Cj/AIVf4F/6FHRv/AJP8KAE/wCFpeBP+hu0f/wMT/Gj/haXgT/obtH/APAxP8aX/hV/gX/oUdG/8Ak/wo/4Vf4F/wChR0b/AMAk/wAKAE/4Wl4E/wChu0f/AMDE/wAaP+FpeBP+hu0f/wADE/xpf+FX+Bf+hR0b/wAAk/wo/wCFX+Bf+hR0b/wCT/CgBP8AhaXgT/obtH/8DE/xo/4Wl4E/6G7R/wDwMT/Gl/4Vf4F/6FHRv/AJP8KP+FX+Bf8AoUdG/wDAJP8ACgBP+FpeBP8AobtH/wDAxP8AGj/haXgT/obtH/8AAxP8aX/hV/gX/oUdG/8AAJP8KP8AhV/gX/oUdG/8Ak/woAT/AIWl4E/6G7R//AxP8aP+FpeBP+hu0f8A8DE/xpf+FX+Bf+hR0b/wCT/Cj/hV/gX/AKFHRv8AwCT/AAoAT/haXgT/AKG7R/8AwMT/ABo/4Wl4E/6G7R//AAMT/Gl/4Vf4F/6FHRv/AACT/Cj/AIVf4F/6FHRv/AJP8KAE/wCFpeBP+hu0f/wMT/Gj/haXgT/obtH/APAxP8aX/hV/gX/oUdG/8Ak/wo/4Vf4F/wChR0b/AMAk/wAKAE/4Wl4E/wChu0f/AMDE/wAaP+FpeBP+hu0f/wADE/xpf+FX+Bf+hR0b/wAAk/wo/wCFX+Bf+hR0b/wCT/CgBP8AhaXgT/obtH/8DE/xrb0bX9J8Q2bXWhajbahbo+xpbaQOobGcZHfkVi/8Kv8AAv8A0KOjf+ASf4VtaPoOk+HrNrXQtOttPt2fe0VtEEUt0zgd+BQBoUUUUAFFFFABRRRQAUUUUAFFFFABXFfGH/kkWv8A/XBf/Ri12tZviHQrTxN4fu9H1EyC2u0CSGNsNgEHg/hQBet/+PWL/cH8qxJ/BejS3t1dwR3FlLenN0bK6kgE56ZYIQCf9rr71vIoRFVeijApaAKelaTYaHpsVhpFpHaWsWdkUYwBnkn3JPUnk1x19/xU/wAZbKxx5lh4Xtvtk/p9rmBWIH3VN7f8CFd7WXo/h6x0S71S5sxIZtUujdXLyNuJbaFAHooCgAUAalFFFABRRRQAUUUUAFFFFABRRRQAUUUUAFFFFABRRRQAUUUUAFFFFABWV4m8N6Z4t8PXWja3AJ7S5XDDoyHsynsQeQa1aKAPErK0+KvwqiNhptnH428Ow8Ww8zZdQp2XHU49AG9sdK5z4f6r8UtC0bUtG0DwBNFc3+oz3v2zU2McUHmBRjDbdxG3159K+kKKAPN/h78MLnQtan8V+M9R/trxTdrhp/8AlnbKR9yMfTjOBxwAOc+kUUUAFFFFABRRRQB5D8bv+Rr+G3/Ywxf+hJXr1eQ/G7/ka/ht/wBjDF/6ElevUAYniNfE0kAj8Lf2WjOjK8t+8gKN/CVCA5/EiuM+EngDxJ8OrGXS76bSLuzuLh7ie4haUTFioAGCu0jI/U16dRQBwvxG8PeL/Fuh6joOiz6PZ6fexLG09w0pmxwWGAuBnGOp4q58OdA1zwr4XtNC1j+zGt7CBYoJbJ5C0h53FwwAGevHqa66igArN8Sf8irq3/XlN/6Aa0qzfEn/ACKmrf8AXlN/6AaAOL+AP/JDfD3+7P8A+lElejV5z8Af+SG+Hv8Adn/9KJK9GoAKKKKACvJPjh/yHPh1/wBjNb/+hLXrdeSfHD/kOfDr/sZrf/0JaAPW6KKKACiiigAooooAKKKKACiiigAooooAK8t/aF/5JjH/ANhS1/8AQ69Sry39oX/kmMf/AGFLX/0OgD1BP9Wv0FOpqf6tfoKdQAUUUUAFFFFABRRRQAUUUUAFFFFABRRRQAUUUUAFFFFABRRRQAUUUUAFFFFABRRRQAUUUUAFFFFABRRRQAUUUUAFFFFABRRRQAUUUUAFFFFABRRRQAUUUUAFFFFABRRRQAUUUUAFFFFABRRRQAUUUUAFFFFABRRRQAUUUUAFFFFABRRRQAUUUUAeYfGbwh4n8Tnw1d+DoraS90e/+1j7RIFUEYK8HryOlYG/9ob/AJ5aB+af417dRQB4jv8A2hv+eWgfmn+NG/8AaG/55aB+af417dRQB4jv/aG/55aB+af40eZ+0N/zy0D80/xr26igDxHf+0N/zy0D80/xqK7h/aCvbKe1nh0ExTxtG+CgOGGD3969zooA474UeHNR8I/C/SNE1pES9tVlEqxuHUbpXYcjrwwrsaKKACiiigArxv8AaBv7fSrjwJqF9J5dtaeIIp5nwTtRSGY4HJ4Br2SobmztrxVW7t4p1U5AlQMAfxoA86/4aE+G3/Qeb/wEm/8AiaT/AIaF+G3/AEHn/wDAOb/4mu+/sPSf+gXZf+A6f4Uf2HpP/QLsv/AdP8KAOB/4aF+G3/Qef/wDm/8AiaP+Ghfht/0Hn/8AAOb/AOJrvv7D0n/oF2X/AIDp/hR/Yek/9Auy/wDAdP8ACgDgf+Ghfht/0Hn/APAOb/4mj/hoX4bf9B5//AOb/wCJrvv7D0n/AKBdl/4Dp/hR/Yek/wDQLsv/AAHT/CgDgf8AhoX4bf8AQef/AMA5v/iaP+Ghfht/0Hn/APAOb/4mu+/sPSf+gXZf+A6f4Uf2HpP/AEC7L/wHT/CgDgf+Ghfht/0Hn/8AAOb/AOJo/wCGhfht/wBB5/8AwDm/+Jrvv7D0n/oF2X/gOn+FH9h6T/0C7L/wHT/CgDgf+Ghfht/0Hn/8A5v/AImj/hoX4bf9B5//AADm/wDia77+w9J/6Bdl/wCA6f4Uf2HpP/QLsv8AwHT/AAoA4H/hoX4bf9B5/wDwDm/+Jrhfi98W/BvjHwVDpXh/VTc3jahbyCM28ifKr8nLKBXvH9h6T/0C7L/wHT/CgaJpQII0yzBHQi3T/CgC4n+rX6CnUUUAFFFFABRRRQAUUUUAFFFFABRRRQAUUUUAFFFFABRRRQAUUUUAFFFFABRRRQAUUUUAFFFFABRRRQAUUUUAFFFFABRRRQAUUUUAFFFFABRRRQAUUUUAFFFFABRRRQAUUUUAFFFFABRRRQAUUUUAFFFFABRRRQAUUUUAFFFFABRRRQAUUUUAFFFFABRRRQAUUUUAFFFFABRRRQAUUUUAFFFFABRRRQAUUUUAFFFFABRRRQAUUUUAFFFFABRRRQAUUUUAFFFFABRRRQAUUUUAFFFFABRRRQAUUUUAFFFFABRRRQAUUUUAFFFFABRRRQAUUUUAFFFFABRRRQAUUUUAFFFFABRRRQAUUUUAFFFFABRRRQAUUUUAFFFFABRRRQAUUUUAFFFFABRRRQAUUUUAFFFFABRRRQAUUUUAFFFFABRRRQAUUUUAFFFFABRRRQAUUUUAFFFFABRRRQAUUUUAFFFFABRRRQAUUUUAFFFFABRRRQAUUUUAFFFFABRRRQAUUUUAFFFFABRRRQAUUUUAFFFFABRRRQAUUUUAFFFFABRRRQAUUUUAFFFFABRRRQAUUUUAFFFFABRRRQAUUUUAFFFFABRRRQB//9k=)"
      ],
      "metadata": {
        "id": "IKt5naaa7BbH"
      }
    },
    {
      "cell_type": "markdown",
      "source": [
        "Для функции f(x) = 0\n"
      ],
      "metadata": {
        "id": "m4Ank9If70VQ"
      }
    },
    {
      "cell_type": "code",
      "source": [
        "q = QuantumRegister(2)\n",
        "c = ClassicalRegister(1)\n",
        "circuit = QuantumCircuit(q,c)\n",
        "circuit.h(q[0])\n",
        "circuit.cx(q[0],q[1])\n",
        "circuit.h(q[1])\n",
        "circuit.h(q[0])\n",
        "print(circuit)"
      ],
      "metadata": {
        "id": "p7srTJqT745O",
        "outputId": "1c8ef5aa-38e0-4627-fef6-3a603bab09b8",
        "colab": {
          "base_uri": "https://localhost:8080/"
        }
      },
      "execution_count": 31,
      "outputs": [
        {
          "output_type": "stream",
          "name": "stdout",
          "text": [
            "       ┌───┐     ┌───┐\n",
            "q60_0: ┤ H ├──■──┤ H ├\n",
            "       └───┘┌─┴─┐├───┤\n",
            "q60_1: ─────┤ X ├┤ H ├\n",
            "            └───┘└───┘\n",
            "  c11: ═══════════════\n",
            "                      \n"
          ]
        }
      ]
    },
    {
      "cell_type": "code",
      "source": [
        "circuit.measure(q[0],c)\n",
        "result = execute(circuit,backend,shots=1000).result()\n",
        "print(result.get_counts())"
      ],
      "metadata": {
        "id": "j0J39tiA75Fg",
        "outputId": "13181e8f-20d4-47fc-f94a-cbf346b669c4",
        "colab": {
          "base_uri": "https://localhost:8080/"
        }
      },
      "execution_count": 33,
      "outputs": [
        {
          "output_type": "stream",
          "name": "stdout",
          "text": [
            "{'0': 508, '1': 492}\n"
          ]
        }
      ]
    },
    {
      "cell_type": "markdown",
      "source": [
        "Для функции f(x) = 1"
      ],
      "metadata": {
        "id": "0ymY9eYs75ma"
      }
    },
    {
      "cell_type": "code",
      "source": [
        "q = QuantumRegister(2)\n",
        "c = ClassicalRegister(1)\n",
        "circuit = QuantumCircuit(q,c)\n",
        "circuit.h(q[0])\n",
        "circuit.cx(q[0],q[1])\n",
        "circuit.h(q[1])\n",
        "circuit.x(q[1])\n",
        "circuit.h(q[0])\n",
        "print(circuit)"
      ],
      "metadata": {
        "id": "AWQv5RhE75yr",
        "outputId": "87fba28a-de10-4b54-993e-48903dbd6e4d",
        "colab": {
          "base_uri": "https://localhost:8080/"
        }
      },
      "execution_count": 34,
      "outputs": [
        {
          "output_type": "stream",
          "name": "stdout",
          "text": [
            "       ┌───┐     ┌───┐     \n",
            "q67_0: ┤ H ├──■──┤ H ├─────\n",
            "       └───┘┌─┴─┐├───┤┌───┐\n",
            "q67_1: ─────┤ X ├┤ H ├┤ X ├\n",
            "            └───┘└───┘└───┘\n",
            "  c12: ════════════════════\n",
            "                           \n"
          ]
        }
      ]
    },
    {
      "cell_type": "code",
      "source": [
        "circuit.measure(q[0],c)\n",
        "result = execute(circuit,backend,shots=1000).result()\n",
        "print(result.get_counts())"
      ],
      "metadata": {
        "id": "Rf1RREX_758k",
        "outputId": "93b58360-e881-48b8-ae3b-b1e70af3c0d3",
        "colab": {
          "base_uri": "https://localhost:8080/"
        }
      },
      "execution_count": 35,
      "outputs": [
        {
          "output_type": "stream",
          "name": "stdout",
          "text": [
            "{'0': 516, '1': 484}\n"
          ]
        }
      ]
    },
    {
      "cell_type": "markdown",
      "source": [
        "Для функции f(x) = x"
      ],
      "metadata": {
        "id": "0-RkI4Cg76Oe"
      }
    },
    {
      "cell_type": "code",
      "source": [
        "q = QuantumRegister(2)\n",
        "c = ClassicalRegister(1)\n",
        "circuit = QuantumCircuit(q,c)\n",
        "circuit.h(q[0])\n",
        "circuit.cx(q[0],q[1])\n",
        "circuit.h(q[1])\n",
        "circuit.cx(q[0],q[1])\n",
        "circuit.h(q[0])\n",
        "print(circuit)"
      ],
      "metadata": {
        "id": "PKDA1jXj76e7",
        "outputId": "ed9be5e4-aab2-448f-c26a-5854c0e4b813",
        "colab": {
          "base_uri": "https://localhost:8080/"
        }
      },
      "execution_count": 36,
      "outputs": [
        {
          "output_type": "stream",
          "name": "stdout",
          "text": [
            "       ┌───┐               ┌───┐\n",
            "q72_0: ┤ H ├──■─────────■──┤ H ├\n",
            "       └───┘┌─┴─┐┌───┐┌─┴─┐└───┘\n",
            "q72_1: ─────┤ X ├┤ H ├┤ X ├─────\n",
            "            └───┘└───┘└───┘     \n",
            "  c13: ═════════════════════════\n",
            "                                \n"
          ]
        }
      ]
    },
    {
      "cell_type": "code",
      "source": [
        "circuit.measure(q[0],c)\n",
        "result = execute(circuit,backend,shots=1000).result()\n",
        "print(result.get_counts())"
      ],
      "metadata": {
        "id": "NPqY3Pcf76qi",
        "outputId": "7256f786-3c58-4790-d69d-ff8c88a4ac70",
        "colab": {
          "base_uri": "https://localhost:8080/"
        }
      },
      "execution_count": 38,
      "outputs": [
        {
          "output_type": "stream",
          "name": "stdout",
          "text": [
            "{'1': 474, '0': 526}\n"
          ]
        }
      ]
    },
    {
      "cell_type": "markdown",
      "source": [
        "Для функции f(x) = NOT x"
      ],
      "metadata": {
        "id": "iSI-s_-K9YWi"
      }
    },
    {
      "cell_type": "code",
      "source": [
        "q = QuantumRegister(2)\n",
        "c = ClassicalRegister(1)\n",
        "circuit = QuantumCircuit(q,c)\n",
        "circuit.h(q[0])\n",
        "circuit.cx(q[0],q[1])\n",
        "circuit.h(q[1])\n",
        "circuit.x(q[0])\n",
        "circuit.cx(q[0],q[1])\n",
        "circuit.x(q[0])\n",
        "circuit.h(q[0])\n",
        "print(circuit)"
      ],
      "metadata": {
        "id": "wJvyKZWJ9bxS",
        "outputId": "fc49af1a-49e9-479b-8109-37b401c13688",
        "colab": {
          "base_uri": "https://localhost:8080/"
        }
      },
      "execution_count": 40,
      "outputs": [
        {
          "output_type": "stream",
          "name": "stdout",
          "text": [
            "       ┌───┐     ┌───┐     ┌───┐┌───┐\n",
            "q80_0: ┤ H ├──■──┤ X ├──■──┤ X ├┤ H ├\n",
            "       └───┘┌─┴─┐├───┤┌─┴─┐└───┘└───┘\n",
            "q80_1: ─────┤ X ├┤ H ├┤ X ├──────────\n",
            "            └───┘└───┘└───┘          \n",
            "  c15: ══════════════════════════════\n",
            "                                     \n"
          ]
        }
      ]
    },
    {
      "cell_type": "code",
      "source": [
        "circuit.measure(q[0],c)\n",
        "result = execute(circuit,backend,shots=1000).result()\n",
        "print(result.get_counts())"
      ],
      "metadata": {
        "id": "Nl4d1SdA9b2p",
        "outputId": "6a7237b6-9a7f-4e59-baae-c92687f2e757",
        "colab": {
          "base_uri": "https://localhost:8080/"
        }
      },
      "execution_count": 41,
      "outputs": [
        {
          "output_type": "stream",
          "name": "stdout",
          "text": [
            "{'0': 517, '1': 483}\n"
          ]
        }
      ]
    }
  ],
  "metadata": {
    "colab": {
      "provenance": []
    },
    "kernelspec": {
      "display_name": "Python 3",
      "language": "python",
      "name": "python3"
    },
    "language_info": {
      "codemirror_mode": {
        "name": "ipython",
        "version": 3
      },
      "file_extension": ".py",
      "mimetype": "text/x-python",
      "name": "python",
      "nbconvert_exporter": "python",
      "pygments_lexer": "ipython3",
      "version": "3.6.5"
    },
    "accelerator": "GPU"
  },
  "nbformat": 4,
  "nbformat_minor": 0
}